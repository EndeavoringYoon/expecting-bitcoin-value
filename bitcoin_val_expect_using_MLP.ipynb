{
  "nbformat": 4,
  "nbformat_minor": 0,
  "metadata": {
    "colab": {
      "name": "bitcoin_val expect using MLP",
      "provenance": [],
      "collapsed_sections": [],
      "mount_file_id": "1N7y6z5Q8MRVluyZb_3WOttxc2_UTgJ_0",
      "authorship_tag": "ABX9TyOapwdfceWMS7XyjuVa7Y4k",
      "include_colab_link": true
    },
    "kernelspec": {
      "name": "python3",
      "display_name": "Python 3"
    },
    "language_info": {
      "name": "python"
    }
  },
  "cells": [
    {
      "cell_type": "markdown",
      "metadata": {
        "id": "view-in-github",
        "colab_type": "text"
      },
      "source": [
        "<a href=\"https://colab.research.google.com/github/EndeavoringYoon/expecting-bitcoin-value/blob/main/bitcoin_val_expect_using_MLP.ipynb\" target=\"_parent\"><img src=\"https://colab.research.google.com/assets/colab-badge.svg\" alt=\"Open In Colab\"/></a>"
      ]
    },
    {
      "cell_type": "code",
      "execution_count": null,
      "metadata": {
        "id": "KRccdZEpau1T",
        "colab": {
          "base_uri": "https://localhost:8080/"
        },
        "outputId": "399d4a55-1288-46df-84aa-52cf827f91aa"
      },
      "outputs": [
        {
          "output_type": "stream",
          "name": "stdout",
          "text": [
            "Requirement already satisfied: pyupbit in /usr/local/lib/python3.7/dist-packages (0.2.24)\n",
            "Requirement already satisfied: pyjwt>=2.0.0 in /usr/local/lib/python3.7/dist-packages (from pyupbit) (2.3.0)\n",
            "Requirement already satisfied: pandas in /usr/local/lib/python3.7/dist-packages (from pyupbit) (1.3.5)\n",
            "Requirement already satisfied: requests in /usr/local/lib/python3.7/dist-packages (from pyupbit) (2.23.0)\n",
            "Requirement already satisfied: websockets==9.1 in /usr/local/lib/python3.7/dist-packages (from pyupbit) (9.1)\n",
            "Requirement already satisfied: python-dateutil>=2.7.3 in /usr/local/lib/python3.7/dist-packages (from pandas->pyupbit) (2.8.2)\n",
            "Requirement already satisfied: pytz>=2017.3 in /usr/local/lib/python3.7/dist-packages (from pandas->pyupbit) (2018.9)\n",
            "Requirement already satisfied: numpy>=1.17.3 in /usr/local/lib/python3.7/dist-packages (from pandas->pyupbit) (1.21.5)\n",
            "Requirement already satisfied: six>=1.5 in /usr/local/lib/python3.7/dist-packages (from python-dateutil>=2.7.3->pandas->pyupbit) (1.15.0)\n",
            "Requirement already satisfied: certifi>=2017.4.17 in /usr/local/lib/python3.7/dist-packages (from requests->pyupbit) (2021.10.8)\n",
            "Requirement already satisfied: urllib3!=1.25.0,!=1.25.1,<1.26,>=1.21.1 in /usr/local/lib/python3.7/dist-packages (from requests->pyupbit) (1.24.3)\n",
            "Requirement already satisfied: chardet<4,>=3.0.2 in /usr/local/lib/python3.7/dist-packages (from requests->pyupbit) (3.0.4)\n",
            "Requirement already satisfied: idna<3,>=2.5 in /usr/local/lib/python3.7/dist-packages (from requests->pyupbit) (2.10)\n"
          ]
        }
      ],
      "source": [
        "pip install pyupbit"
      ]
    },
    {
      "cell_type": "code",
      "source": [
        "%matplotlib inline\n",
        "import numpy as np\n",
        "import pyupbit\n",
        "import torch\n",
        "import time\n",
        "from datetime import date\n",
        "import datetime\n",
        "from torch import nn\n",
        "from torch import optim\n",
        "from torch.utils.data import DataLoader, Dataset\n",
        "import matplotlib.pyplot as plt\n",
        "from sklearn.model_selection import train_test_split\n",
        "from torch.utils import data\n",
        "from IPython import display\n",
        "from pandas import DataFrame\n",
        "\n",
        "coin = 'KRW-BTC'\n",
        "target_date = datetime.date(2022, 3, 18)\n",
        "learning_rate = 0.0001\n",
        "# batch size를 1일인 24로 설정\n",
        "batch_size = 24\n",
        "total_feature_number = 600\n",
        "num_epochs = 100\n",
        "weight_decay = 1e-7\n"
      ],
      "metadata": {
        "id": "NKgiIvSya1iF"
      },
      "execution_count": null,
      "outputs": []
    },
    {
      "cell_type": "markdown",
      "source": [
        "## Data Preprocessing"
      ],
      "metadata": {
        "id": "Y2HzQ4-RyCzB"
      }
    },
    {
      "cell_type": "code",
      "source": [
        "# 600일간의 1분동 데이터를 받아와서 시간당 종가를 예측.\n",
        "# 1분동 데이터 60개를 reshape해서 feature 하나당 60분동안의 element 가짐\n",
        "# 다음 1시간의 종가를 label로 가지게 설정\n",
        "\n",
        "\n",
        "date2 = target_date.strftime('%Y%m%d')\n",
        "target_fd = date2 + ' 00:01:00'\n",
        "target_ld = date2 + ' 00:02:00'\n",
        "\n",
        "\n",
        "feature_data = pyupbit.get_ohlcv(ticker=coin, interval=\"minute1\", count=1440*total_feature_number, to=target_fd)\n",
        "label_data = pyupbit.get_ohlcv(ticker=coin, interval=\"minute60\", count=24*total_feature_number, to=target_ld)\n",
        "    \n",
        "rfeatures, rlabels = feature_data, label_data"
      ],
      "metadata": {
        "id": "DXj4ypJBbhiF"
      },
      "execution_count": null,
      "outputs": []
    },
    {
      "cell_type": "code",
      "source": [
        "np.savetxt('rfeatures.csv', rfeatures, delimiter=',')\n",
        "np.savetxt('rlabels.csv', rlabels, delimiter=',')"
      ],
      "metadata": {
        "id": "pn9yItAMBWZw"
      },
      "execution_count": null,
      "outputs": []
    },
    {
      "cell_type": "code",
      "source": [
        "#불러오기\n",
        "#import io\n",
        "#import pandas as pd\n",
        "#rfeatures = np.array(pd.read_csv('rfeatures.csv'))\n",
        "#rlabels = np.array(pd.read_csv('rlabels.csv'))\n",
        "rdata = np.array(rfeatures)\n",
        "features = np.reshape(rdata,(-1, 360))\n",
        "\n",
        "ldata = np.array(rlabels)\n",
        "labels = np.reshape(ldata[:,3], (-1,1)) # 종가만 추려서 [,1]로 만들기-> y값이 됨\n",
        "#...했더니 값이 깨지는 거 같다..."
      ],
      "metadata": {
        "id": "tJiUu2E6HUPR"
      },
      "execution_count": null,
      "outputs": []
    },
    {
      "cell_type": "code",
      "source": [
        "class TensorData(Dataset):\n",
        "\n",
        "    def __init__(self, x_data, y_data):\n",
        "        self.x_data = torch.FloatTensor(x_data)\n",
        "        self.y_data = torch.FloatTensor(y_data)\n",
        "        self.len = self.y_data.shape[0]\n",
        "\n",
        "    def __getitem__(self, index):\n",
        "\n",
        "        x = torch.FloatTensor(self.x_data[index])\n",
        "        y = torch.FloatTensor(self.y_data[index])\n",
        "        return x,y\n",
        "\n",
        "    def __len__(self):\n",
        "        return self.len"
      ],
      "metadata": {
        "id": "j5zEnw4e2BpG"
      },
      "execution_count": null,
      "outputs": []
    },
    {
      "cell_type": "markdown",
      "source": [
        "### Normalization시 주의사함\n",
        "\n",
        "normalization에 사용하는 mean과 std는 train data의 mean과 std를 기반으로 해야 함, 즉 test와 application 때 사용하는 data도 모두 train feature mean과 train feature std를 기반으로 normalization을 해야 하고, test와 application 때 추론하는 output은 모두 train output mean과 train output std를 기반으로 normalization해야 함."
      ],
      "metadata": {
        "id": "blGmNX1Pqp6J"
      }
    },
    {
      "cell_type": "code",
      "source": [
        "train_features, test_features, train_labels, test_labels = train_test_split(features, labels, test_size=1/6, shuffle = False)\n",
        "#이거 train->test 순서로 나누니까 순서 신경 안써도 됨!\n",
        "#러닝에는 tensor값만 받기 때문에 np.array에서 tensor로 형식 변경\n",
        "trf_mean = train_features.mean(axis=0)\n",
        "trf_std = train_features.std(axis =0)\n",
        "train_features = (train_features - trf_mean) / trf_std # normalization\n",
        "train_features = torch.tensor(train_features, dtype = torch.float32)\n",
        "\n",
        "\n",
        "test_features = (test_features - trf_mean) / trf_std # normalization\n",
        "test_features = torch.tensor(test_features, dtype = torch.float32)\n",
        "\n",
        "trl_mean = train_labels.mean(axis=0)\n",
        "trl_std = train_labels.std(axis = 0)\n",
        "train_labels = (train_labels - trl_mean) / trl_std # normalization\n",
        "train_labels = torch.tensor(train_labels, dtype = torch.float32)\n",
        "\n",
        "#tl_mean = test_labels.mean(axis=0) # 나중에 test()에서 사용 예정\n",
        "#tl_std = test_labels.std(axis=0)\n",
        "test_labels = (test_labels - trl_mean) / trl_std # normalization\n",
        "test_labels = torch.tensor(test_labels, dtype = torch.float32)\n"
      ],
      "metadata": {
        "id": "sQT6wnpzjaYq"
      },
      "execution_count": null,
      "outputs": []
    },
    {
      "cell_type": "code",
      "source": [
        "from torch.utils.data import TensorDataset, DataLoader\n",
        "ds_train = TensorDataset(train_features, train_labels)\n",
        "ds_test = TensorDataset(test_features, test_labels)\n",
        "\n",
        "loader_train = DataLoader(ds_train, batch_size=batch_size, shuffle=False)\n",
        "loader_test = DataLoader(ds_test, batch_size=batch_size, shuffle=False)"
      ],
      "metadata": {
        "id": "S8I6p2UgiZNc"
      },
      "execution_count": null,
      "outputs": []
    },
    {
      "cell_type": "markdown",
      "source": [
        "## 손실함수 설정"
      ],
      "metadata": {
        "id": "q7JPv3nr-xzT"
      }
    },
    {
      "cell_type": "code",
      "source": [
        "loss = nn.MSELoss()"
      ],
      "metadata": {
        "id": "bpFhhCZ-cABg"
      },
      "execution_count": null,
      "outputs": []
    },
    {
      "cell_type": "markdown",
      "source": [
        "## 모델 구축"
      ],
      "metadata": {
        "id": "sFSWh7Ij-EXa"
      }
    },
    {
      "cell_type": "code",
      "source": [
        "num_inputs, num_outputs, num_hiddens1, num_hiddens2 = 360, 1, 60, 120\n",
        "learning_rate = 0.0001\n",
        "# batch size를 1일인 24로 설정\n",
        "batch_size = 24\n",
        "total_feature_number = 600\n",
        "num_epochs = 500\n",
        "weight_decay = 1e-7\n",
        "\n",
        "\n",
        "model = nn.Sequential()\n",
        "model.add_module('fc1', nn.Linear(num_inputs, num_hiddens1))\n",
        "model.add_module('relu1', nn.ReLU())\n",
        "model.add_module('fc2', nn.Linear(num_hiddens1, num_hiddens2))\n",
        "model.add_module('relu2', nn.ReLU())\n",
        "model.add_module('fc3', nn.Linear(num_hiddens2, num_outputs))\n",
        "\n",
        "print(model)"
      ],
      "metadata": {
        "id": "JjViDYXp8SO9",
        "colab": {
          "base_uri": "https://localhost:8080/"
        },
        "outputId": "ed0029e6-9437-4319-e05e-1e436803393b"
      },
      "execution_count": null,
      "outputs": [
        {
          "output_type": "stream",
          "name": "stdout",
          "text": [
            "Sequential(\n",
            "  (fc1): Linear(in_features=360, out_features=60, bias=True)\n",
            "  (relu1): ReLU()\n",
            "  (fc2): Linear(in_features=60, out_features=120, bias=True)\n",
            "  (relu2): ReLU()\n",
            "  (fc3): Linear(in_features=120, out_features=1, bias=True)\n",
            ")\n"
          ]
        }
      ]
    },
    {
      "cell_type": "code",
      "source": [
        "# 오차함수 선택\n",
        "loss_fn = loss\n",
        "\n",
        "# 가중치를 학습하기 위한 최적화 기법 선택\n",
        "optimizer = optim.Adam(model.parameters(), lr=learning_rate)"
      ],
      "metadata": {
        "id": "m5IPINlN_VY_"
      },
      "execution_count": null,
      "outputs": []
    },
    {
      "cell_type": "code",
      "source": [
        "def train(epoch):\n",
        "    model.train()  # 신경망을 학습 모드로 전환\n",
        "    # 데이터로더에서 미니배치를 하나씩 꺼내 학습을 수행\n",
        "    for data, targets in loader_train:\n",
        "\n",
        "        optimizer.zero_grad()  # 경사를 0으로 초기화\n",
        "        outputs = model(data)  # 데이터를 입력하고 출력을 계산\n",
        "        loss = loss_fn(outputs, targets)  # 출력과 훈련 데이터 정답 간의 오차를 계산\n",
        "        loss.backward()  # 오차를 역전파 계산\n",
        "        optimizer.step()  # 역전파 계산한 값으로 가중치를 수정"
      ],
      "metadata": {
        "id": "YhICoxgA-X_Q"
      },
      "execution_count": null,
      "outputs": []
    },
    {
      "cell_type": "code",
      "source": [
        "def use_svg_display():\n",
        "    \"\"\"Use the svg format to display a plot in Jupyter.\"\"\"\n",
        "    display.set_matplotlib_formats('svg')\n",
        "\n",
        "def set_figsize(figsize=(3.5, 2.5)):\n",
        "    \"\"\"Set the figure size for matplotlib.\"\"\"\n",
        "    use_svg_display()\n",
        "    plt.rcParams['figure.figsize'] = figsize\n",
        "\n",
        "def set_axes(axes, xlabel, ylabel, xlim, ylim, xscale, yscale, legend):\n",
        "    \"\"\"Set the axes for matplotlib.\"\"\"\n",
        "    axes.set_xlabel(xlabel)\n",
        "    axes.set_ylabel(ylabel)\n",
        "    axes.set_xscale(xscale)\n",
        "    axes.set_yscale(yscale)\n",
        "    axes.set_xlim(xlim)\n",
        "    axes.set_ylim(ylim)\n",
        "    if legend:\n",
        "        axes.legend(legend)\n",
        "    axes.grid()\n",
        "\n",
        "def plot(X, Y=None, xlabel=None, ylabel=None, legend=None, xlim=None,\n",
        "         ylim=None, xscale='linear', yscale='linear',\n",
        "         fmts=('-', 'm--', 'g-.', 'r:'), figsize=(3.5, 2.5), axes=None):\n",
        "    \"\"\"Plot data points.\"\"\"\n",
        "    if legend is None:\n",
        "        legend = []\n",
        "\n",
        "    set_figsize(figsize)\n",
        "    axes = axes if axes else plt.gca()\n",
        "\n",
        "    # Return True if `X` (tensor or list) has 1 axis\n",
        "    def has_one_axis(X):\n",
        "        return (hasattr(X, \"ndim\") and X.ndim == 1 or isinstance(X, list)\n",
        "                and not hasattr(X[0], \"__len__\"))\n",
        "\n",
        "    if has_one_axis(X):\n",
        "        X = [X]\n",
        "    if Y is None:\n",
        "        X, Y = [[]] * len(X), X\n",
        "    elif has_one_axis(Y):\n",
        "        Y = [Y]\n",
        "    if len(X) != len(Y):\n",
        "        X = X * len(Y)\n",
        "    axes.cla()\n",
        "    for x, y, fmt in zip(X, Y, fmts):\n",
        "        if len(x):\n",
        "            axes.plot(x, y, fmt)\n",
        "        else:\n",
        "            axes.plot(y, fmt)\n",
        "    set_axes(axes, xlabel, ylabel, xlim, ylim, xscale, yscale, legend)"
      ],
      "metadata": {
        "id": "7qz2dt47lJ0E"
      },
      "execution_count": null,
      "outputs": []
    },
    {
      "cell_type": "code",
      "source": [
        "def test():\n",
        "# len(expected_value)=100\n",
        "# test_labels.shape=(2400, 1)\n",
        "    i=0\n",
        "    model.eval()  # 신경망을 추론 모드로 전환\n",
        "    \n",
        "    # 데이터로더에서 미니배치를 하나씩 꺼내 추론을 수행\n",
        "    with torch.no_grad():  # 추론 과정에는 미분이 필요없음\n",
        "        for data, targets in loader_test:\n",
        "            if i == 0:\n",
        "              outputs = model(data)  # 데이터를 입력하고 출력을 계산\n",
        "              expected_value = outputs\n",
        "              i+=1\n",
        "            else:\n",
        "              outputs = model(data)\n",
        "              expected_value = torch.cat((expected_value, outputs), 0)\n",
        "        real_loss = test_labels.flatten() - expected_value.flatten() #y-net(X)\n",
        "        real_loss = real_loss.reshape(1,-1)\n",
        "        real_loss = real_loss*trl_std + trl_mean\n",
        "\n",
        "        plot(np.arange(1, 2401), real_loss, xlabel='epoch', ylabel='real-expect', xlim=[1, 2401],legend=['test'])\n",
        "           "
      ],
      "metadata": {
        "id": "mvcKw-_C-Z7e"
      },
      "execution_count": null,
      "outputs": []
    },
    {
      "cell_type": "code",
      "source": [
        "test_labels.shape"
      ],
      "metadata": {
        "id": "RWkYVd4yrcr0",
        "colab": {
          "base_uri": "https://localhost:8080/"
        },
        "outputId": "139e7e18-6739-4fef-a9a7-52225de9975b"
      },
      "execution_count": null,
      "outputs": [
        {
          "output_type": "execute_result",
          "data": {
            "text/plain": [
              "torch.Size([2400, 1])"
            ]
          },
          "metadata": {},
          "execution_count": 109
        }
      ]
    },
    {
      "cell_type": "code",
      "source": [
        "for epoch in range(num_epochs):\n",
        "  train(epoch)"
      ],
      "metadata": {
        "id": "jq7bFcpU-haY"
      },
      "execution_count": null,
      "outputs": []
    },
    {
      "cell_type": "code",
      "source": [
        "test()"
      ],
      "metadata": {
        "id": "gJ48ych7mIU0",
        "colab": {
          "base_uri": "https://localhost:8080/",
          "height": 275
        },
        "outputId": "81fbf4bd-0338-4983-ef76-bdef5b1d9a4a"
      },
      "execution_count": null,
      "outputs": [
        {
          "output_type": "display_data",
          "data": {
            "text/plain": [
              "<Figure size 252x180 with 1 Axes>"
            ],
            "image/svg+xml": "<?xml version=\"1.0\" encoding=\"utf-8\" standalone=\"no\"?>\n<!DOCTYPE svg PUBLIC \"-//W3C//DTD SVG 1.1//EN\"\n  \"http://www.w3.org/Graphics/SVG/1.1/DTD/svg11.dtd\">\n<!-- Created with matplotlib (https://matplotlib.org/) -->\n<svg height=\"191.254687pt\" version=\"1.1\" viewBox=\"0 0 236.740625 191.254687\" width=\"236.740625pt\" xmlns=\"http://www.w3.org/2000/svg\" xmlns:xlink=\"http://www.w3.org/1999/xlink\">\n <defs>\n  <style type=\"text/css\">\n*{stroke-linecap:butt;stroke-linejoin:round;}\n  </style>\n </defs>\n <g id=\"figure_1\">\n  <g id=\"patch_1\">\n   <path d=\"M 0 191.254687 \nL 236.740625 191.254687 \nL 236.740625 0 \nL 0 0 \nz\n\" style=\"fill:none;\"/>\n  </g>\n  <g id=\"axes_1\">\n   <g id=\"patch_2\">\n    <path d=\"M 34.240625 153.698437 \nL 229.540625 153.698437 \nL 229.540625 17.798437 \nL 34.240625 17.798437 \nz\n\" style=\"fill:#ffffff;\"/>\n   </g>\n   <g id=\"matplotlib.axis_1\">\n    <g id=\"xtick_1\">\n     <g id=\"line2d_1\">\n      <path clip-path=\"url(#p21a6768d47)\" d=\"M 74.84675 153.698437 \nL 74.84675 17.798437 \n\" style=\"fill:none;stroke:#b0b0b0;stroke-linecap:square;stroke-width:0.8;\"/>\n     </g>\n     <g id=\"line2d_2\">\n      <defs>\n       <path d=\"M 0 0 \nL 0 3.5 \n\" id=\"mf5abc33986\" style=\"stroke:#000000;stroke-width:0.8;\"/>\n      </defs>\n      <g>\n       <use style=\"stroke:#000000;stroke-width:0.8;\" x=\"74.84675\" xlink:href=\"#mf5abc33986\" y=\"153.698437\"/>\n      </g>\n     </g>\n     <g id=\"text_1\">\n      <!-- 500 -->\n      <defs>\n       <path d=\"M 10.796875 72.90625 \nL 49.515625 72.90625 \nL 49.515625 64.59375 \nL 19.828125 64.59375 \nL 19.828125 46.734375 \nQ 21.96875 47.46875 24.109375 47.828125 \nQ 26.265625 48.1875 28.421875 48.1875 \nQ 40.625 48.1875 47.75 41.5 \nQ 54.890625 34.8125 54.890625 23.390625 \nQ 54.890625 11.625 47.5625 5.09375 \nQ 40.234375 -1.421875 26.90625 -1.421875 \nQ 22.3125 -1.421875 17.546875 -0.640625 \nQ 12.796875 0.140625 7.71875 1.703125 \nL 7.71875 11.625 \nQ 12.109375 9.234375 16.796875 8.0625 \nQ 21.484375 6.890625 26.703125 6.890625 \nQ 35.15625 6.890625 40.078125 11.328125 \nQ 45.015625 15.765625 45.015625 23.390625 \nQ 45.015625 31 40.078125 35.4375 \nQ 35.15625 39.890625 26.703125 39.890625 \nQ 22.75 39.890625 18.8125 39.015625 \nQ 14.890625 38.140625 10.796875 36.28125 \nz\n\" id=\"DejaVuSans-53\"/>\n       <path d=\"M 31.78125 66.40625 \nQ 24.171875 66.40625 20.328125 58.90625 \nQ 16.5 51.421875 16.5 36.375 \nQ 16.5 21.390625 20.328125 13.890625 \nQ 24.171875 6.390625 31.78125 6.390625 \nQ 39.453125 6.390625 43.28125 13.890625 \nQ 47.125 21.390625 47.125 36.375 \nQ 47.125 51.421875 43.28125 58.90625 \nQ 39.453125 66.40625 31.78125 66.40625 \nz\nM 31.78125 74.21875 \nQ 44.046875 74.21875 50.515625 64.515625 \nQ 56.984375 54.828125 56.984375 36.375 \nQ 56.984375 17.96875 50.515625 8.265625 \nQ 44.046875 -1.421875 31.78125 -1.421875 \nQ 19.53125 -1.421875 13.0625 8.265625 \nQ 6.59375 17.96875 6.59375 36.375 \nQ 6.59375 54.828125 13.0625 64.515625 \nQ 19.53125 74.21875 31.78125 74.21875 \nz\n\" id=\"DejaVuSans-48\"/>\n      </defs>\n      <g transform=\"translate(65.303 168.296875)scale(0.1 -0.1)\">\n       <use xlink:href=\"#DejaVuSans-53\"/>\n       <use x=\"63.623047\" xlink:href=\"#DejaVuSans-48\"/>\n       <use x=\"127.246094\" xlink:href=\"#DejaVuSans-48\"/>\n      </g>\n     </g>\n    </g>\n    <g id=\"xtick_2\">\n     <g id=\"line2d_3\">\n      <path clip-path=\"url(#p21a6768d47)\" d=\"M 115.53425 153.698437 \nL 115.53425 17.798437 \n\" style=\"fill:none;stroke:#b0b0b0;stroke-linecap:square;stroke-width:0.8;\"/>\n     </g>\n     <g id=\"line2d_4\">\n      <g>\n       <use style=\"stroke:#000000;stroke-width:0.8;\" x=\"115.53425\" xlink:href=\"#mf5abc33986\" y=\"153.698437\"/>\n      </g>\n     </g>\n     <g id=\"text_2\">\n      <!-- 1000 -->\n      <defs>\n       <path d=\"M 12.40625 8.296875 \nL 28.515625 8.296875 \nL 28.515625 63.921875 \nL 10.984375 60.40625 \nL 10.984375 69.390625 \nL 28.421875 72.90625 \nL 38.28125 72.90625 \nL 38.28125 8.296875 \nL 54.390625 8.296875 \nL 54.390625 0 \nL 12.40625 0 \nz\n\" id=\"DejaVuSans-49\"/>\n      </defs>\n      <g transform=\"translate(102.80925 168.296875)scale(0.1 -0.1)\">\n       <use xlink:href=\"#DejaVuSans-49\"/>\n       <use x=\"63.623047\" xlink:href=\"#DejaVuSans-48\"/>\n       <use x=\"127.246094\" xlink:href=\"#DejaVuSans-48\"/>\n       <use x=\"190.869141\" xlink:href=\"#DejaVuSans-48\"/>\n      </g>\n     </g>\n    </g>\n    <g id=\"xtick_3\">\n     <g id=\"line2d_5\">\n      <path clip-path=\"url(#p21a6768d47)\" d=\"M 156.22175 153.698437 \nL 156.22175 17.798437 \n\" style=\"fill:none;stroke:#b0b0b0;stroke-linecap:square;stroke-width:0.8;\"/>\n     </g>\n     <g id=\"line2d_6\">\n      <g>\n       <use style=\"stroke:#000000;stroke-width:0.8;\" x=\"156.22175\" xlink:href=\"#mf5abc33986\" y=\"153.698437\"/>\n      </g>\n     </g>\n     <g id=\"text_3\">\n      <!-- 1500 -->\n      <g transform=\"translate(143.49675 168.296875)scale(0.1 -0.1)\">\n       <use xlink:href=\"#DejaVuSans-49\"/>\n       <use x=\"63.623047\" xlink:href=\"#DejaVuSans-53\"/>\n       <use x=\"127.246094\" xlink:href=\"#DejaVuSans-48\"/>\n       <use x=\"190.869141\" xlink:href=\"#DejaVuSans-48\"/>\n      </g>\n     </g>\n    </g>\n    <g id=\"xtick_4\">\n     <g id=\"line2d_7\">\n      <path clip-path=\"url(#p21a6768d47)\" d=\"M 196.90925 153.698437 \nL 196.90925 17.798437 \n\" style=\"fill:none;stroke:#b0b0b0;stroke-linecap:square;stroke-width:0.8;\"/>\n     </g>\n     <g id=\"line2d_8\">\n      <g>\n       <use style=\"stroke:#000000;stroke-width:0.8;\" x=\"196.90925\" xlink:href=\"#mf5abc33986\" y=\"153.698437\"/>\n      </g>\n     </g>\n     <g id=\"text_4\">\n      <!-- 2000 -->\n      <defs>\n       <path d=\"M 19.1875 8.296875 \nL 53.609375 8.296875 \nL 53.609375 0 \nL 7.328125 0 \nL 7.328125 8.296875 \nQ 12.9375 14.109375 22.625 23.890625 \nQ 32.328125 33.6875 34.8125 36.53125 \nQ 39.546875 41.84375 41.421875 45.53125 \nQ 43.3125 49.21875 43.3125 52.78125 \nQ 43.3125 58.59375 39.234375 62.25 \nQ 35.15625 65.921875 28.609375 65.921875 \nQ 23.96875 65.921875 18.8125 64.3125 \nQ 13.671875 62.703125 7.8125 59.421875 \nL 7.8125 69.390625 \nQ 13.765625 71.78125 18.9375 73 \nQ 24.125 74.21875 28.421875 74.21875 \nQ 39.75 74.21875 46.484375 68.546875 \nQ 53.21875 62.890625 53.21875 53.421875 \nQ 53.21875 48.921875 51.53125 44.890625 \nQ 49.859375 40.875 45.40625 35.40625 \nQ 44.1875 33.984375 37.640625 27.21875 \nQ 31.109375 20.453125 19.1875 8.296875 \nz\n\" id=\"DejaVuSans-50\"/>\n      </defs>\n      <g transform=\"translate(184.18425 168.296875)scale(0.1 -0.1)\">\n       <use xlink:href=\"#DejaVuSans-50\"/>\n       <use x=\"63.623047\" xlink:href=\"#DejaVuSans-48\"/>\n       <use x=\"127.246094\" xlink:href=\"#DejaVuSans-48\"/>\n       <use x=\"190.869141\" xlink:href=\"#DejaVuSans-48\"/>\n      </g>\n     </g>\n    </g>\n    <g id=\"text_5\">\n     <!-- epoch -->\n     <defs>\n      <path d=\"M 56.203125 29.59375 \nL 56.203125 25.203125 \nL 14.890625 25.203125 \nQ 15.484375 15.921875 20.484375 11.0625 \nQ 25.484375 6.203125 34.421875 6.203125 \nQ 39.59375 6.203125 44.453125 7.46875 \nQ 49.3125 8.734375 54.109375 11.28125 \nL 54.109375 2.78125 \nQ 49.265625 0.734375 44.1875 -0.34375 \nQ 39.109375 -1.421875 33.890625 -1.421875 \nQ 20.796875 -1.421875 13.15625 6.1875 \nQ 5.515625 13.8125 5.515625 26.8125 \nQ 5.515625 40.234375 12.765625 48.109375 \nQ 20.015625 56 32.328125 56 \nQ 43.359375 56 49.78125 48.890625 \nQ 56.203125 41.796875 56.203125 29.59375 \nz\nM 47.21875 32.234375 \nQ 47.125 39.59375 43.09375 43.984375 \nQ 39.0625 48.390625 32.421875 48.390625 \nQ 24.90625 48.390625 20.390625 44.140625 \nQ 15.875 39.890625 15.1875 32.171875 \nz\n\" id=\"DejaVuSans-101\"/>\n      <path d=\"M 18.109375 8.203125 \nL 18.109375 -20.796875 \nL 9.078125 -20.796875 \nL 9.078125 54.6875 \nL 18.109375 54.6875 \nL 18.109375 46.390625 \nQ 20.953125 51.265625 25.265625 53.625 \nQ 29.59375 56 35.59375 56 \nQ 45.5625 56 51.78125 48.09375 \nQ 58.015625 40.1875 58.015625 27.296875 \nQ 58.015625 14.40625 51.78125 6.484375 \nQ 45.5625 -1.421875 35.59375 -1.421875 \nQ 29.59375 -1.421875 25.265625 0.953125 \nQ 20.953125 3.328125 18.109375 8.203125 \nz\nM 48.6875 27.296875 \nQ 48.6875 37.203125 44.609375 42.84375 \nQ 40.53125 48.484375 33.40625 48.484375 \nQ 26.265625 48.484375 22.1875 42.84375 \nQ 18.109375 37.203125 18.109375 27.296875 \nQ 18.109375 17.390625 22.1875 11.75 \nQ 26.265625 6.109375 33.40625 6.109375 \nQ 40.53125 6.109375 44.609375 11.75 \nQ 48.6875 17.390625 48.6875 27.296875 \nz\n\" id=\"DejaVuSans-112\"/>\n      <path d=\"M 30.609375 48.390625 \nQ 23.390625 48.390625 19.1875 42.75 \nQ 14.984375 37.109375 14.984375 27.296875 \nQ 14.984375 17.484375 19.15625 11.84375 \nQ 23.34375 6.203125 30.609375 6.203125 \nQ 37.796875 6.203125 41.984375 11.859375 \nQ 46.1875 17.53125 46.1875 27.296875 \nQ 46.1875 37.015625 41.984375 42.703125 \nQ 37.796875 48.390625 30.609375 48.390625 \nz\nM 30.609375 56 \nQ 42.328125 56 49.015625 48.375 \nQ 55.71875 40.765625 55.71875 27.296875 \nQ 55.71875 13.875 49.015625 6.21875 \nQ 42.328125 -1.421875 30.609375 -1.421875 \nQ 18.84375 -1.421875 12.171875 6.21875 \nQ 5.515625 13.875 5.515625 27.296875 \nQ 5.515625 40.765625 12.171875 48.375 \nQ 18.84375 56 30.609375 56 \nz\n\" id=\"DejaVuSans-111\"/>\n      <path d=\"M 48.78125 52.59375 \nL 48.78125 44.1875 \nQ 44.96875 46.296875 41.140625 47.34375 \nQ 37.3125 48.390625 33.40625 48.390625 \nQ 24.65625 48.390625 19.8125 42.84375 \nQ 14.984375 37.3125 14.984375 27.296875 \nQ 14.984375 17.28125 19.8125 11.734375 \nQ 24.65625 6.203125 33.40625 6.203125 \nQ 37.3125 6.203125 41.140625 7.25 \nQ 44.96875 8.296875 48.78125 10.40625 \nL 48.78125 2.09375 \nQ 45.015625 0.34375 40.984375 -0.53125 \nQ 36.96875 -1.421875 32.421875 -1.421875 \nQ 20.0625 -1.421875 12.78125 6.34375 \nQ 5.515625 14.109375 5.515625 27.296875 \nQ 5.515625 40.671875 12.859375 48.328125 \nQ 20.21875 56 33.015625 56 \nQ 37.15625 56 41.109375 55.140625 \nQ 45.0625 54.296875 48.78125 52.59375 \nz\n\" id=\"DejaVuSans-99\"/>\n      <path d=\"M 54.890625 33.015625 \nL 54.890625 0 \nL 45.90625 0 \nL 45.90625 32.71875 \nQ 45.90625 40.484375 42.875 44.328125 \nQ 39.84375 48.1875 33.796875 48.1875 \nQ 26.515625 48.1875 22.3125 43.546875 \nQ 18.109375 38.921875 18.109375 30.90625 \nL 18.109375 0 \nL 9.078125 0 \nL 9.078125 75.984375 \nL 18.109375 75.984375 \nL 18.109375 46.1875 \nQ 21.34375 51.125 25.703125 53.5625 \nQ 30.078125 56 35.796875 56 \nQ 45.21875 56 50.046875 50.171875 \nQ 54.890625 44.34375 54.890625 33.015625 \nz\n\" id=\"DejaVuSans-104\"/>\n     </defs>\n     <g transform=\"translate(116.6625 181.975)scale(0.1 -0.1)\">\n      <use xlink:href=\"#DejaVuSans-101\"/>\n      <use x=\"61.523438\" xlink:href=\"#DejaVuSans-112\"/>\n      <use x=\"125\" xlink:href=\"#DejaVuSans-111\"/>\n      <use x=\"186.181641\" xlink:href=\"#DejaVuSans-99\"/>\n      <use x=\"241.162109\" xlink:href=\"#DejaVuSans-104\"/>\n     </g>\n    </g>\n   </g>\n   <g id=\"matplotlib.axis_2\">\n    <g id=\"ytick_1\">\n     <g id=\"line2d_9\">\n      <path clip-path=\"url(#p21a6768d47)\" d=\"M 34.240625 152.834003 \nL 229.540625 152.834003 \n\" style=\"fill:none;stroke:#b0b0b0;stroke-linecap:square;stroke-width:0.8;\"/>\n     </g>\n     <g id=\"line2d_10\">\n      <defs>\n       <path d=\"M 0 0 \nL -3.5 0 \n\" id=\"me7aa1b5955\" style=\"stroke:#000000;stroke-width:0.8;\"/>\n      </defs>\n      <g>\n       <use style=\"stroke:#000000;stroke-width:0.8;\" x=\"34.240625\" xlink:href=\"#me7aa1b5955\" y=\"152.834003\"/>\n      </g>\n     </g>\n     <g id=\"text_6\">\n      <!-- 3 -->\n      <defs>\n       <path d=\"M 40.578125 39.3125 \nQ 47.65625 37.796875 51.625 33 \nQ 55.609375 28.21875 55.609375 21.1875 \nQ 55.609375 10.40625 48.1875 4.484375 \nQ 40.765625 -1.421875 27.09375 -1.421875 \nQ 22.515625 -1.421875 17.65625 -0.515625 \nQ 12.796875 0.390625 7.625 2.203125 \nL 7.625 11.71875 \nQ 11.71875 9.328125 16.59375 8.109375 \nQ 21.484375 6.890625 26.8125 6.890625 \nQ 36.078125 6.890625 40.9375 10.546875 \nQ 45.796875 14.203125 45.796875 21.1875 \nQ 45.796875 27.640625 41.28125 31.265625 \nQ 36.765625 34.90625 28.71875 34.90625 \nL 20.21875 34.90625 \nL 20.21875 43.015625 \nL 29.109375 43.015625 \nQ 36.375 43.015625 40.234375 45.921875 \nQ 44.09375 48.828125 44.09375 54.296875 \nQ 44.09375 59.90625 40.109375 62.90625 \nQ 36.140625 65.921875 28.71875 65.921875 \nQ 24.65625 65.921875 20.015625 65.03125 \nQ 15.375 64.15625 9.8125 62.3125 \nL 9.8125 71.09375 \nQ 15.4375 72.65625 20.34375 73.4375 \nQ 25.25 74.21875 29.59375 74.21875 \nQ 40.828125 74.21875 47.359375 69.109375 \nQ 53.90625 64.015625 53.90625 55.328125 \nQ 53.90625 49.265625 50.4375 45.09375 \nQ 46.96875 40.921875 40.578125 39.3125 \nz\n\" id=\"DejaVuSans-51\"/>\n      </defs>\n      <g transform=\"translate(20.878125 156.633222)scale(0.1 -0.1)\">\n       <use xlink:href=\"#DejaVuSans-51\"/>\n      </g>\n     </g>\n    </g>\n    <g id=\"ytick_2\">\n     <g id=\"line2d_11\">\n      <path clip-path=\"url(#p21a6768d47)\" d=\"M 34.240625 111.243969 \nL 229.540625 111.243969 \n\" style=\"fill:none;stroke:#b0b0b0;stroke-linecap:square;stroke-width:0.8;\"/>\n     </g>\n     <g id=\"line2d_12\">\n      <g>\n       <use style=\"stroke:#000000;stroke-width:0.8;\" x=\"34.240625\" xlink:href=\"#me7aa1b5955\" y=\"111.243969\"/>\n      </g>\n     </g>\n     <g id=\"text_7\">\n      <!-- 4 -->\n      <defs>\n       <path d=\"M 37.796875 64.3125 \nL 12.890625 25.390625 \nL 37.796875 25.390625 \nz\nM 35.203125 72.90625 \nL 47.609375 72.90625 \nL 47.609375 25.390625 \nL 58.015625 25.390625 \nL 58.015625 17.1875 \nL 47.609375 17.1875 \nL 47.609375 0 \nL 37.796875 0 \nL 37.796875 17.1875 \nL 4.890625 17.1875 \nL 4.890625 26.703125 \nz\n\" id=\"DejaVuSans-52\"/>\n      </defs>\n      <g transform=\"translate(20.878125 115.043187)scale(0.1 -0.1)\">\n       <use xlink:href=\"#DejaVuSans-52\"/>\n      </g>\n     </g>\n    </g>\n    <g id=\"ytick_3\">\n     <g id=\"line2d_13\">\n      <path clip-path=\"url(#p21a6768d47)\" d=\"M 34.240625 69.653934 \nL 229.540625 69.653934 \n\" style=\"fill:none;stroke:#b0b0b0;stroke-linecap:square;stroke-width:0.8;\"/>\n     </g>\n     <g id=\"line2d_14\">\n      <g>\n       <use style=\"stroke:#000000;stroke-width:0.8;\" x=\"34.240625\" xlink:href=\"#me7aa1b5955\" y=\"69.653934\"/>\n      </g>\n     </g>\n     <g id=\"text_8\">\n      <!-- 5 -->\n      <g transform=\"translate(20.878125 73.453153)scale(0.1 -0.1)\">\n       <use xlink:href=\"#DejaVuSans-53\"/>\n      </g>\n     </g>\n    </g>\n    <g id=\"ytick_4\">\n     <g id=\"line2d_15\">\n      <path clip-path=\"url(#p21a6768d47)\" d=\"M 34.240625 28.063899 \nL 229.540625 28.063899 \n\" style=\"fill:none;stroke:#b0b0b0;stroke-linecap:square;stroke-width:0.8;\"/>\n     </g>\n     <g id=\"line2d_16\">\n      <g>\n       <use style=\"stroke:#000000;stroke-width:0.8;\" x=\"34.240625\" xlink:href=\"#me7aa1b5955\" y=\"28.063899\"/>\n      </g>\n     </g>\n     <g id=\"text_9\">\n      <!-- 6 -->\n      <defs>\n       <path d=\"M 33.015625 40.375 \nQ 26.375 40.375 22.484375 35.828125 \nQ 18.609375 31.296875 18.609375 23.390625 \nQ 18.609375 15.53125 22.484375 10.953125 \nQ 26.375 6.390625 33.015625 6.390625 \nQ 39.65625 6.390625 43.53125 10.953125 \nQ 47.40625 15.53125 47.40625 23.390625 \nQ 47.40625 31.296875 43.53125 35.828125 \nQ 39.65625 40.375 33.015625 40.375 \nz\nM 52.59375 71.296875 \nL 52.59375 62.3125 \nQ 48.875 64.0625 45.09375 64.984375 \nQ 41.3125 65.921875 37.59375 65.921875 \nQ 27.828125 65.921875 22.671875 59.328125 \nQ 17.53125 52.734375 16.796875 39.40625 \nQ 19.671875 43.65625 24.015625 45.921875 \nQ 28.375 48.1875 33.59375 48.1875 \nQ 44.578125 48.1875 50.953125 41.515625 \nQ 57.328125 34.859375 57.328125 23.390625 \nQ 57.328125 12.15625 50.6875 5.359375 \nQ 44.046875 -1.421875 33.015625 -1.421875 \nQ 20.359375 -1.421875 13.671875 8.265625 \nQ 6.984375 17.96875 6.984375 36.375 \nQ 6.984375 53.65625 15.1875 63.9375 \nQ 23.390625 74.21875 37.203125 74.21875 \nQ 40.921875 74.21875 44.703125 73.484375 \nQ 48.484375 72.75 52.59375 71.296875 \nz\n\" id=\"DejaVuSans-54\"/>\n      </defs>\n      <g transform=\"translate(20.878125 31.863118)scale(0.1 -0.1)\">\n       <use xlink:href=\"#DejaVuSans-54\"/>\n      </g>\n     </g>\n    </g>\n    <g id=\"text_10\">\n     <!-- real-expect -->\n     <defs>\n      <path d=\"M 41.109375 46.296875 \nQ 39.59375 47.171875 37.8125 47.578125 \nQ 36.03125 48 33.890625 48 \nQ 26.265625 48 22.1875 43.046875 \nQ 18.109375 38.09375 18.109375 28.8125 \nL 18.109375 0 \nL 9.078125 0 \nL 9.078125 54.6875 \nL 18.109375 54.6875 \nL 18.109375 46.1875 \nQ 20.953125 51.171875 25.484375 53.578125 \nQ 30.03125 56 36.53125 56 \nQ 37.453125 56 38.578125 55.875 \nQ 39.703125 55.765625 41.0625 55.515625 \nz\n\" id=\"DejaVuSans-114\"/>\n      <path d=\"M 34.28125 27.484375 \nQ 23.390625 27.484375 19.1875 25 \nQ 14.984375 22.515625 14.984375 16.5 \nQ 14.984375 11.71875 18.140625 8.90625 \nQ 21.296875 6.109375 26.703125 6.109375 \nQ 34.1875 6.109375 38.703125 11.40625 \nQ 43.21875 16.703125 43.21875 25.484375 \nL 43.21875 27.484375 \nz\nM 52.203125 31.203125 \nL 52.203125 0 \nL 43.21875 0 \nL 43.21875 8.296875 \nQ 40.140625 3.328125 35.546875 0.953125 \nQ 30.953125 -1.421875 24.3125 -1.421875 \nQ 15.921875 -1.421875 10.953125 3.296875 \nQ 6 8.015625 6 15.921875 \nQ 6 25.140625 12.171875 29.828125 \nQ 18.359375 34.515625 30.609375 34.515625 \nL 43.21875 34.515625 \nL 43.21875 35.40625 \nQ 43.21875 41.609375 39.140625 45 \nQ 35.0625 48.390625 27.6875 48.390625 \nQ 23 48.390625 18.546875 47.265625 \nQ 14.109375 46.140625 10.015625 43.890625 \nL 10.015625 52.203125 \nQ 14.9375 54.109375 19.578125 55.046875 \nQ 24.21875 56 28.609375 56 \nQ 40.484375 56 46.34375 49.84375 \nQ 52.203125 43.703125 52.203125 31.203125 \nz\n\" id=\"DejaVuSans-97\"/>\n      <path d=\"M 9.421875 75.984375 \nL 18.40625 75.984375 \nL 18.40625 0 \nL 9.421875 0 \nz\n\" id=\"DejaVuSans-108\"/>\n      <path d=\"M 4.890625 31.390625 \nL 31.203125 31.390625 \nL 31.203125 23.390625 \nL 4.890625 23.390625 \nz\n\" id=\"DejaVuSans-45\"/>\n      <path d=\"M 54.890625 54.6875 \nL 35.109375 28.078125 \nL 55.90625 0 \nL 45.3125 0 \nL 29.390625 21.484375 \nL 13.484375 0 \nL 2.875 0 \nL 24.125 28.609375 \nL 4.6875 54.6875 \nL 15.28125 54.6875 \nL 29.78125 35.203125 \nL 44.28125 54.6875 \nz\n\" id=\"DejaVuSans-120\"/>\n      <path d=\"M 18.3125 70.21875 \nL 18.3125 54.6875 \nL 36.8125 54.6875 \nL 36.8125 47.703125 \nL 18.3125 47.703125 \nL 18.3125 18.015625 \nQ 18.3125 11.328125 20.140625 9.421875 \nQ 21.96875 7.515625 27.59375 7.515625 \nL 36.8125 7.515625 \nL 36.8125 0 \nL 27.59375 0 \nQ 17.1875 0 13.234375 3.875 \nQ 9.28125 7.765625 9.28125 18.015625 \nL 9.28125 47.703125 \nL 2.6875 47.703125 \nL 2.6875 54.6875 \nL 9.28125 54.6875 \nL 9.28125 70.21875 \nz\n\" id=\"DejaVuSans-116\"/>\n     </defs>\n     <g transform=\"translate(14.798438 113.933594)rotate(-90)scale(0.1 -0.1)\">\n      <use xlink:href=\"#DejaVuSans-114\"/>\n      <use x=\"38.863281\" xlink:href=\"#DejaVuSans-101\"/>\n      <use x=\"100.386719\" xlink:href=\"#DejaVuSans-97\"/>\n      <use x=\"161.666016\" xlink:href=\"#DejaVuSans-108\"/>\n      <use x=\"189.449219\" xlink:href=\"#DejaVuSans-45\"/>\n      <use x=\"225.533203\" xlink:href=\"#DejaVuSans-101\"/>\n      <use x=\"285.306641\" xlink:href=\"#DejaVuSans-120\"/>\n      <use x=\"344.486328\" xlink:href=\"#DejaVuSans-112\"/>\n      <use x=\"407.962891\" xlink:href=\"#DejaVuSans-101\"/>\n      <use x=\"469.486328\" xlink:href=\"#DejaVuSans-99\"/>\n      <use x=\"524.466797\" xlink:href=\"#DejaVuSans-116\"/>\n     </g>\n    </g>\n    <g id=\"text_11\">\n     <!-- 1e7 -->\n     <defs>\n      <path d=\"M 8.203125 72.90625 \nL 55.078125 72.90625 \nL 55.078125 68.703125 \nL 28.609375 0 \nL 18.3125 0 \nL 43.21875 64.59375 \nL 8.203125 64.59375 \nz\n\" id=\"DejaVuSans-55\"/>\n     </defs>\n     <g transform=\"translate(34.240625 14.798437)scale(0.1 -0.1)\">\n      <use xlink:href=\"#DejaVuSans-49\"/>\n      <use x=\"63.623047\" xlink:href=\"#DejaVuSans-101\"/>\n      <use x=\"125.146484\" xlink:href=\"#DejaVuSans-55\"/>\n     </g>\n    </g>\n   </g>\n   <g id=\"line2d_17\">\n    <path clip-path=\"url(#p21a6768d47)\" d=\"M 34.240625 100.292012 \nL 34.322 100.315759 \nL 34.403375 99.052093 \nL 34.48475 99.182488 \nL 34.81025 105.676767 \nL 34.891625 103.657144 \nL 34.973 96.283037 \nL 35.054375 97.879383 \nL 35.13575 94.872789 \nL 35.379875 106.914363 \nL 35.46125 105.627752 \nL 35.542625 107.445559 \nL 35.868125 96.782707 \nL 35.9495 98.107493 \nL 36.030875 100.24703 \nL 36.11225 97.67121 \nL 36.275 100.672788 \nL 36.356375 99.937669 \nL 36.43775 102.172353 \nL 36.519125 100.927099 \nL 36.6005 104.640109 \nL 36.681875 102.21366 \nL 36.76325 103.208366 \nL 37.007375 97.347915 \nL 37.08875 101.789411 \nL 37.170125 99.747636 \nL 37.2515 105.041023 \nL 37.41425 94.745932 \nL 37.495625 100.303139 \nL 37.577 98.467507 \nL 37.73975 102.358977 \nL 37.9025 97.854783 \nL 37.983875 105.211895 \nL 38.06525 103.489224 \nL 38.146625 108.046873 \nL 38.228 100.28324 \nL 38.309375 102.279344 \nL 38.39075 101.183363 \nL 38.472125 98.262054 \nL 38.5535 101.501083 \nL 38.634875 94.050953 \nL 38.71625 100.452011 \nL 38.797625 100.250053 \nL 38.960375 106.084987 \nL 39.04175 100.466075 \nL 39.123125 102.491403 \nL 39.2045 101.212229 \nL 39.448625 93.215628 \nL 39.611375 103.692838 \nL 39.774125 97.122215 \nL 39.8555 101.470795 \nL 39.936875 86.379855 \nL 40.181 103.229638 \nL 40.262375 103.331075 \nL 40.425125 101.42152 \nL 40.587875 89.627613 \nL 40.750625 98.803823 \nL 40.913375 104.181403 \nL 40.99475 102.846831 \nL 41.076125 103.210303 \nL 41.1575 99.551655 \nL 41.238875 102.011279 \nL 41.32025 100.074654 \nL 41.401625 101.690117 \nL 41.64575 97.52072 \nL 41.889875 106.06619 \nL 42.052625 100.532041 \nL 42.134 99.560991 \nL 42.215375 96.909065 \nL 42.4595 104.004088 \nL 42.540875 99.468189 \nL 42.62225 101.519158 \nL 42.703625 99.804071 \nL 42.866375 102.010296 \nL 42.94775 98.545485 \nL 43.191875 101.600491 \nL 43.27325 99.347335 \nL 43.354625 92.174302 \nL 43.517375 101.305324 \nL 43.680125 95.329779 \nL 43.7615 96.927753 \nL 43.842875 97.29876 \nL 44.005625 103.536176 \nL 44.087 100.886058 \nL 44.168375 101.255783 \nL 44.4125 105.887442 \nL 44.493875 92.13731 \nL 44.57525 98.646326 \nL 44.656625 97.282047 \nL 44.819375 102.482214 \nL 44.90075 96.607574 \nL 44.982125 102.314696 \nL 45.0635 98.239842 \nL 45.144875 99.280105 \nL 45.22625 98.991712 \nL 45.389 99.839 \nL 45.55175 117.415064 \nL 45.7145 100.898862 \nL 45.795875 132.030711 \nL 46.04 87.337906 \nL 46.121375 101.895544 \nL 46.20275 99.751772 \nL 46.284125 102.957578 \nL 46.3655 99.066596 \nL 46.52825 105.311699 \nL 46.609625 87.116212 \nL 46.691 106.020047 \nL 46.772375 103.417347 \nL 46.85375 97.593742 \nL 46.935125 98.62457 \nL 47.0165 97.444994 \nL 47.097875 113.376193 \nL 47.17925 98.500373 \nL 47.260625 105.478695 \nL 47.342 99.139955 \nL 47.50475 104.149058 \nL 47.586125 103.718333 \nL 47.6675 104.095343 \nL 47.993 94.710591 \nL 48.074375 97.883714 \nL 48.15575 89.5249 \nL 48.3185 104.906594 \nL 48.399875 104.121712 \nL 48.48125 97.582973 \nL 48.562625 98.320941 \nL 48.644 100.4012 \nL 48.725375 63.646678 \nL 48.888125 106.82764 \nL 48.9695 100.802147 \nL 49.050875 101.472711 \nL 49.13225 104.708539 \nL 49.295 102.566787 \nL 49.376375 115.102598 \nL 49.6205 87.540662 \nL 49.701875 89.881446 \nL 49.78325 87.914274 \nL 49.864625 94.000098 \nL 49.946 115.388977 \nL 50.10875 98.828233 \nL 50.190125 98.597843 \nL 50.352875 103.852273 \nL 50.43425 102.035048 \nL 50.515625 103.786693 \nL 50.597 98.888548 \nL 50.75975 104.769592 \nL 50.9225 91.395786 \nL 51.08525 102.69322 \nL 51.166625 101.42932 \nL 51.248 103.472213 \nL 51.41075 91.636239 \nL 51.492125 102.994216 \nL 51.5735 84.45083 \nL 51.73625 102.902397 \nL 51.817625 101.061175 \nL 51.899 94.388436 \nL 51.980375 103.132722 \nL 52.06175 101.596474 \nL 52.143125 103.007689 \nL 52.305875 99.788748 \nL 52.38725 99.851164 \nL 52.55 100.927153 \nL 52.631375 103.941286 \nL 52.71275 102.550541 \nL 52.794125 103.670958 \nL 52.8755 111.113175 \nL 53.03825 96.975069 \nL 53.119625 95.693219 \nL 53.201 104.349279 \nL 53.282375 95.900979 \nL 53.445125 109.059708 \nL 53.5265 71.848505 \nL 53.607875 84.28429 \nL 53.68925 102.506064 \nL 53.770625 101.234772 \nL 53.933375 102.528975 \nL 54.01475 101.846301 \nL 54.096125 115.240886 \nL 54.34025 94.699523 \nL 54.503 100.741468 \nL 54.584375 97.825119 \nL 54.747125 101.894936 \nL 54.909875 98.360072 \nL 55.072625 102.413507 \nL 55.154 101.965309 \nL 55.235375 86.119607 \nL 55.398125 101.53738 \nL 55.560875 103.869138 \nL 55.723625 99.320103 \nL 55.805 91.644794 \nL 56.049125 104.393641 \nL 56.29325 94.567021 \nL 56.374625 99.72536 \nL 56.456 91.269348 \nL 56.537375 102.492353 \nL 56.61875 101.498391 \nL 56.700125 101.517215 \nL 56.7815 102.274404 \nL 56.862875 101.971432 \nL 57.025625 99.703952 \nL 57.107 101.865533 \nL 57.26975 96.51854 \nL 57.351125 108.695546 \nL 57.4325 101.902508 \nL 57.513875 102.814611 \nL 57.676625 101.72141 \nL 57.758 96.24452 \nL 58.002125 105.7876 \nL 58.0835 104.189018 \nL 58.164875 94.290429 \nL 58.327625 101.917413 \nL 58.409 101.089845 \nL 58.57175 104.537808 \nL 58.653125 103.412924 \nL 58.7345 109.817424 \nL 58.89725 92.261149 \nL 59.06 104.334205 \nL 59.22275 95.387647 \nL 59.304125 97.367255 \nL 59.3855 102.680953 \nL 59.54825 98.424409 \nL 59.629625 98.808459 \nL 59.711 99.121342 \nL 59.792375 107.365111 \nL 59.955125 102.050132 \nL 60.0365 101.502511 \nL 60.280625 93.513846 \nL 60.362 92.760027 \nL 60.443375 93.402361 \nL 60.52475 100.893462 \nL 60.606125 99.069918 \nL 60.6875 99.049541 \nL 60.768875 89.227622 \nL 60.85025 99.621415 \nL 60.931625 99.322361 \nL 61.013 103.187186 \nL 61.257125 98.752893 \nL 61.419875 100.37 \nL 61.50125 100.364681 \nL 61.582625 99.926357 \nL 61.664 97.675329 \nL 61.82675 102.832914 \nL 61.908125 102.333591 \nL 62.15225 98.51092 \nL 62.233625 103.183967 \nL 62.315 102.314104 \nL 62.396375 98.830366 \nL 62.47775 104.287498 \nL 62.559125 99.536315 \nL 62.6405 100.724267 \nL 62.721875 104.660545 \nL 62.80325 103.852224 \nL 62.884625 102.549102 \nL 62.966 104.908494 \nL 63.047375 92.581963 \nL 63.12875 102.930878 \nL 63.210125 101.681932 \nL 63.2915 102.116966 \nL 63.372875 102.087107 \nL 63.617 98.079761 \nL 63.77975 103.686813 \nL 63.861125 100.170105 \nL 63.9425 103.100881 \nL 64.023875 96.122071 \nL 64.349375 103.434049 \nL 64.5935 98.850118 \nL 64.674875 102.244301 \nL 64.75625 97.336799 \nL 64.837625 97.546454 \nL 64.919 98.984401 \nL 65.000375 103.319552 \nL 65.325875 92.768967 \nL 65.40725 103.276687 \nL 65.57 92.259678 \nL 65.651375 99.147956 \nL 65.73275 98.156995 \nL 65.814125 94.097031 \nL 65.976875 100.51027 \nL 66.05825 98.953809 \nL 66.139625 102.863815 \nL 66.221 99.237284 \nL 66.302375 100.277193 \nL 66.38375 99.214247 \nL 66.465125 99.815149 \nL 66.5465 98.753555 \nL 66.790625 102.365914 \nL 66.953375 99.989218 \nL 67.116125 98.446778 \nL 67.441625 101.635214 \nL 67.604375 98.158559 \nL 67.68575 98.803004 \nL 67.767125 104.242408 \nL 67.8485 97.641448 \nL 67.929875 99.433824 \nL 68.092625 100.394877 \nL 68.255375 99.853704 \nL 68.33675 102.501765 \nL 68.418125 101.570822 \nL 68.4995 103.94749 \nL 68.580875 100.186139 \nL 68.66225 101.576228 \nL 68.743625 101.347668 \nL 68.825 99.693308 \nL 68.906375 99.78459 \nL 68.98775 101.84444 \nL 69.069125 99.90293 \nL 69.1505 101.434292 \nL 69.31325 95.844713 \nL 69.476 101.926163 \nL 69.63875 103.639204 \nL 69.882875 101.158422 \nL 69.96425 102.549678 \nL 70.045625 88.826105 \nL 70.127 90.801051 \nL 70.28975 101.857331 \nL 70.371125 101.030887 \nL 70.4525 101.28631 \nL 70.533875 100.236326 \nL 70.61525 100.435456 \nL 70.696625 102.814871 \nL 70.778 98.360386 \nL 70.859375 101.492366 \nL 70.94075 99.708153 \nL 71.022125 100.361663 \nL 71.184875 98.445573 \nL 71.26625 100.347903 \nL 71.347625 98.598755 \nL 71.429 100.581083 \nL 71.510375 98.06212 \nL 71.59175 99.889273 \nL 71.673125 105.901842 \nL 71.835875 98.278381 \nL 71.998625 98.089521 \nL 72.08 96.756105 \nL 72.24275 104.31981 \nL 72.4055 99.830082 \nL 72.486875 99.916875 \nL 72.731 96.606782 \nL 72.975125 102.553423 \nL 73.137875 98.465613 \nL 73.300625 102.565978 \nL 73.382 101.312136 \nL 73.463375 102.15475 \nL 73.54475 101.055085 \nL 73.626125 108.579187 \nL 73.788875 101.30597 \nL 73.87025 109.252048 \nL 73.951625 99.281565 \nL 74.033 102.123241 \nL 74.114375 126.336323 \nL 74.19575 99.171654 \nL 74.277125 100.902516 \nL 74.439875 102.493238 \nL 74.52125 100.011169 \nL 74.602625 103.714941 \nL 74.84675 100.988755 \nL 75.090875 105.590017 \nL 75.17225 94.37466 \nL 75.253625 105.718643 \nL 75.335 101.002743 \nL 75.416375 102.500055 \nL 75.49775 101.166092 \nL 75.579125 94.627575 \nL 75.82325 104.162535 \nL 75.904625 102.989141 \nL 75.986 103.956088 \nL 76.067375 99.908206 \nL 76.230125 105.841429 \nL 76.3115 95.153023 \nL 76.47425 105.836973 \nL 76.555625 103.929372 \nL 76.637 100.294557 \nL 76.718375 102.148128 \nL 76.79975 96.672477 \nL 76.9625 104.153595 \nL 77.043875 103.880618 \nL 77.12525 103.816194 \nL 77.288 99.489754 \nL 77.369375 104.534546 \nL 77.45075 104.351276 \nL 77.532125 104.095098 \nL 77.6135 98.863325 \nL 77.77625 104.193464 \nL 77.857625 97.961144 \nL 77.939 98.530374 \nL 78.020375 94.47727 \nL 78.10175 101.212197 \nL 78.183125 98.819157 \nL 78.2645 102.175985 \nL 78.42725 98.955394 \nL 78.59 103.757132 \nL 78.671375 103.04874 \nL 78.75275 100.942384 \nL 78.834125 101.461617 \nL 78.9155 99.61083 \nL 78.996875 101.387183 \nL 79.07825 100.412621 \nL 79.241 105.752726 \nL 79.322375 104.765739 \nL 79.40375 101.34148 \nL 79.485125 101.939635 \nL 79.5665 103.405059 \nL 79.810625 97.834146 \nL 79.892 102.354754 \nL 79.973375 102.233043 \nL 80.05475 96.589608 \nL 80.136125 97.472921 \nL 80.2175 93.346437 \nL 80.461625 104.013044 \nL 80.624375 100.727985 \nL 80.70575 103.629895 \nL 80.787125 102.381091 \nL 80.949875 112.553814 \nL 81.03125 123.513368 \nL 81.194 98.223162 \nL 81.35675 101.355826 \nL 81.438125 101.839511 \nL 81.5195 100.97227 \nL 81.68225 102.143563 \nL 81.763625 102.852986 \nL 81.845 99.938489 \nL 81.926375 103.754217 \nL 82.00775 99.915632 \nL 82.089125 103.681428 \nL 82.1705 100.995388 \nL 82.251875 102.197534 \nL 82.414625 99.583696 \nL 82.496 103.525532 \nL 82.577375 99.412162 \nL 82.740125 103.376214 \nL 82.8215 100.830725 \nL 82.902875 101.110238 \nL 82.98425 101.528989 \nL 83.065625 98.982571 \nL 83.228375 102.306869 \nL 83.30975 101.999212 \nL 83.391125 102.330931 \nL 83.4725 102.105785 \nL 83.553875 102.314837 \nL 83.63525 100.510932 \nL 83.716625 102.435262 \nL 83.798 102.032312 \nL 83.879375 102.944035 \nL 84.1235 99.855235 \nL 84.204875 102.971853 \nL 84.28625 101.614805 \nL 84.367625 102.247872 \nL 84.449 96.767357 \nL 84.530375 99.063931 \nL 84.61175 104.619987 \nL 84.693125 99.455981 \nL 84.7745 102.339936 \nL 84.93725 100.091959 \nL 85.018625 100.141983 \nL 85.1 105.137456 \nL 85.181375 104.16425 \nL 85.26275 101.934023 \nL 85.344125 103.067662 \nL 85.4255 100.607973 \nL 85.506875 102.415775 \nL 85.58825 100.688459 \nL 85.669625 101.865999 \nL 85.751 100.16288 \nL 85.832375 104.896574 \nL 85.995125 98.764552 \nL 86.0765 101.577612 \nL 86.157875 100.826209 \nL 86.320625 107.119257 \nL 86.483375 97.011604 \nL 86.646125 103.107927 \nL 86.808875 97.410494 \nL 86.89025 101.332133 \nL 86.971625 98.513884 \nL 87.053 101.043897 \nL 87.134375 97.683466 \nL 87.21575 104.336675 \nL 87.297125 99.454299 \nL 87.459875 104.539154 \nL 87.622625 99.47993 \nL 87.785375 102.467878 \nL 87.948125 100.328878 \nL 88.0295 103.159861 \nL 88.110875 101.496139 \nL 88.19225 95.607805 \nL 88.355 104.76569 \nL 88.436375 103.286376 \nL 88.599125 106.91211 \nL 88.6805 97.412128 \nL 88.761875 100.294926 \nL 88.84325 100.97068 \nL 88.924625 100.926871 \nL 89.087375 110.746299 \nL 89.250125 97.540054 \nL 89.3315 98.863531 \nL 89.412875 102.691733 \nL 89.49425 101.526996 \nL 89.575625 99.28778 \nL 89.657 74.451796 \nL 89.81975 99.712762 \nL 89.901125 99.967051 \nL 89.9825 99.639484 \nL 90.063875 92.14713 \nL 90.226625 103.993232 \nL 90.308 102.273085 \nL 90.552125 109.698394 \nL 90.6335 106.838729 \nL 90.79625 38.139468 \nL 90.959 101.896697 \nL 91.12175 105.200152 \nL 91.528625 100.50466 \nL 91.61 101.636128 \nL 91.691375 108.51577 \nL 91.77275 100.618951 \nL 91.854125 107.366552 \nL 92.016875 97.914371 \nL 92.09825 109.745929 \nL 92.179625 99.115537 \nL 92.261 104.573841 \nL 92.42375 101.949082 \nL 92.505125 100.654102 \nL 92.5865 103.500284 \nL 92.667875 103.245232 \nL 92.74925 104.991913 \nL 92.993375 95.405635 \nL 93.156125 106.417029 \nL 93.2375 66.614462 \nL 93.40025 97.976212 \nL 93.481625 97.048259 \nL 93.563 85.511678 \nL 93.644375 102.518481 \nL 93.72575 97.738994 \nL 93.807125 100.447674 \nL 93.8885 98.386207 \nL 93.969875 109.234784 \nL 94.05125 97.23183 \nL 94.132625 99.53216 \nL 94.295375 117.07601 \nL 94.458125 98.019421 \nL 94.70225 105.359815 \nL 94.783625 103.061976 \nL 94.865 97.162816 \nL 94.946375 103.265034 \nL 95.02775 100.747393 \nL 95.109125 102.897211 \nL 95.1905 100.331131 \nL 95.271875 102.745787 \nL 95.35325 100.322864 \nL 95.434625 101.962758 \nL 95.516 101.439069 \nL 95.597375 96.118714 \nL 95.760125 102.509353 \nL 95.8415 100.830115 \nL 96.00425 103.27891 \nL 96.085625 102.838442 \nL 96.167 99.332642 \nL 96.248375 108.996703 \nL 96.411125 102.023435 \nL 96.573875 95.512085 \nL 96.65525 112.460963 \nL 96.736625 100.081912 \nL 96.818 105.946566 \nL 96.98075 102.45965 \nL 97.062125 104.136107 \nL 97.1435 103.724325 \nL 97.469 99.575945 \nL 97.63175 107.830138 \nL 97.713125 101.472638 \nL 97.7945 102.713502 \nL 97.875875 108.677645 \nL 97.95725 102.385306 \nL 98.038625 103.363239 \nL 98.201375 98.586564 \nL 98.28275 101.972265 \nL 98.364125 98.257812 \nL 98.4455 105.390711 \nL 98.526875 102.155822 \nL 98.771 108.999018 \nL 98.93375 103.446053 \nL 99.015125 101.008163 \nL 99.0965 104.33785 \nL 99.177875 101.568808 \nL 99.25925 107.795393 \nL 99.503375 96.594743 \nL 99.666125 102.227496 \nL 99.7475 101.007332 \nL 99.828875 86.913442 \nL 99.91025 95.705985 \nL 99.991625 87.554689 \nL 100.073 88.941088 \nL 100.23575 106.117571 \nL 100.3985 100.094947 \nL 100.479875 101.858932 \nL 100.56125 107.741458 \nL 100.642625 98.330639 \nL 100.724 99.54916 \nL 100.805375 108.528216 \nL 100.88675 99.027634 \nL 100.968125 103.334273 \nL 101.0495 102.183011 \nL 101.130875 103.422542 \nL 101.21225 110.017417 \nL 101.293625 91.398161 \nL 101.375 100.98048 \nL 101.456375 95.856386 \nL 101.53775 103.1326 \nL 101.619125 98.151671 \nL 101.7005 104.76978 \nL 101.944625 98.13692 \nL 102.026 84.566462 \nL 102.107375 91.431958 \nL 102.18875 108.025321 \nL 102.270125 98.002361 \nL 102.3515 100.817739 \nL 102.432875 99.782142 \nL 102.595625 105.951313 \nL 102.677 105.635919 \nL 102.83975 100.291879 \nL 102.921125 101.152793 \nL 103.0025 103.259014 \nL 103.16525 95.212218 \nL 103.246625 100.959037 \nL 103.328 98.911671 \nL 103.409375 98.551171 \nL 103.572125 104.878027 \nL 103.6535 89.103137 \nL 103.81625 103.234181 \nL 103.897625 96.416367 \nL 103.979 106.724935 \nL 104.060375 96.131279 \nL 104.223125 104.382519 \nL 104.385875 99.178048 \nL 104.46725 109.981573 \nL 104.548625 102.653989 \nL 104.63 103.324041 \nL 104.711375 103.454176 \nL 104.79275 104.271914 \nL 104.9555 100.560828 \nL 105.036875 100.312128 \nL 105.11825 99.03674 \nL 105.199625 108.177147 \nL 105.362375 97.429856 \nL 105.44375 100.814626 \nL 105.525125 99.983714 \nL 105.6065 101.129903 \nL 105.687875 97.852745 \nL 105.850625 100.454245 \nL 105.932 99.424806 \nL 106.013375 109.747471 \nL 106.176125 101.544124 \nL 106.2575 103.623083 \nL 106.338875 90.11636 \nL 106.501625 104.834142 \nL 106.583 101.096983 \nL 106.664375 101.587076 \nL 106.74575 102.070511 \nL 106.827125 99.95404 \nL 106.9085 105.525069 \nL 106.989875 92.505969 \nL 107.152625 101.814382 \nL 107.234 94.790987 \nL 107.478125 105.82736 \nL 107.5595 96.252839 \nL 107.640875 106.171468 \nL 107.885 93.800504 \nL 107.966375 91.629577 \nL 108.04775 108.106779 \nL 108.129125 104.384227 \nL 108.2105 106.545894 \nL 108.37325 101.001986 \nL 108.454625 104.231696 \nL 108.617375 101.083342 \nL 108.69875 100.267434 \nL 108.780125 102.325449 \nL 108.8615 93.59352 \nL 109.02425 102.21062 \nL 109.105625 100.3451 \nL 109.187 100.692093 \nL 109.268375 104.274973 \nL 109.34975 99.347143 \nL 109.431125 100.580771 \nL 109.5125 107.535356 \nL 109.67525 100.906687 \nL 109.756625 109.473514 \nL 109.838 99.975412 \nL 109.919375 101.452962 \nL 110.082125 101.920477 \nL 110.1635 104.375607 \nL 110.244875 96.690891 \nL 110.407625 102.830547 \nL 110.489 103.696317 \nL 110.570375 100.378202 \nL 110.65175 105.404327 \nL 110.733125 104.550868 \nL 110.895875 99.881113 \nL 110.97725 102.274024 \nL 111.058625 101.217579 \nL 111.14 101.93963 \nL 111.221375 105.657804 \nL 111.4655 98.139637 \nL 111.546875 103.308482 \nL 111.62825 93.23195 \nL 111.791 100.934022 \nL 111.872375 103.050575 \nL 112.035125 100.01968 \nL 112.1165 102.219435 \nL 112.197875 98.99993 \nL 112.360625 102.906832 \nL 112.442 100.300992 \nL 112.523375 104.351396 \nL 112.60475 96.786792 \nL 112.93025 107.520644 \nL 113.093 98.065306 \nL 113.174375 103.153429 \nL 113.25575 96.860856 \nL 113.337125 102.033677 \nL 113.4185 101.425673 \nL 113.499875 99.93441 \nL 113.744 106.972895 \nL 113.825375 105.024036 \nL 113.988125 98.142913 \nL 114.150875 101.221804 \nL 114.23225 107.252614 \nL 114.313625 100.029258 \nL 114.395 102.377536 \nL 114.476375 102.396189 \nL 114.55775 103.754679 \nL 114.639125 102.652367 \nL 114.7205 104.800887 \nL 114.801875 104.253329 \nL 114.964625 101.194689 \nL 115.046 105.864381 \nL 115.20875 98.830561 \nL 115.290125 100.511252 \nL 115.3715 98.406766 \nL 115.452875 104.343335 \nL 115.53425 96.145598 \nL 115.615625 104.024019 \nL 115.697 97.166412 \nL 115.778375 103.589172 \nL 115.85975 101.582508 \nL 115.941125 100.276116 \nL 116.0225 103.048518 \nL 116.103875 97.312853 \nL 116.18525 101.262897 \nL 116.266625 98.949309 \nL 116.348 100.762439 \nL 116.429375 98.197358 \nL 116.51075 100.655386 \nL 116.592125 107.526107 \nL 116.6735 107.469908 \nL 116.754875 100.129914 \nL 116.917625 106.114675 \nL 116.999 86.479764 \nL 117.080375 146.354339 \nL 117.243125 98.439078 \nL 117.48725 103.044298 \nL 117.568625 102.282231 \nL 117.65 103.015947 \nL 117.731375 97.56971 \nL 117.81275 106.92704 \nL 117.894125 105.054194 \nL 117.9755 104.733722 \nL 118.056875 105.041807 \nL 118.13825 102.160884 \nL 118.219625 102.883573 \nL 118.301 103.851584 \nL 118.382375 100.001524 \nL 118.46375 101.333642 \nL 118.6265 98.315801 \nL 118.707875 103.146482 \nL 118.78925 86.753612 \nL 118.870625 98.84079 \nL 118.952 98.58861 \nL 119.11475 102.476867 \nL 119.196125 97.135308 \nL 119.2775 99.011364 \nL 119.358875 99.305616 \nL 119.521625 96.04095 \nL 119.603 84.905712 \nL 119.684375 111.840738 \nL 119.76575 102.223542 \nL 119.9285 100.170797 \nL 120.009875 106.657789 \nL 120.09125 94.244145 \nL 120.172625 104.944774 \nL 120.254 23.97571 \nL 120.41675 116.091771 \nL 120.498125 90.026078 \nL 120.5795 117.403652 \nL 120.660875 96.801899 \nL 120.74225 104.666999 \nL 120.905 94.673013 \nL 120.986375 95.892129 \nL 121.06775 99.615018 \nL 121.149125 99.044432 \nL 121.2305 101.404025 \nL 121.311875 99.932755 \nL 121.39325 105.367052 \nL 121.474625 100.310458 \nL 121.556 85.928818 \nL 121.637375 100.813775 \nL 121.71875 99.162112 \nL 121.800125 93.602891 \nL 122.125625 142.134358 \nL 122.207 76.996473 \nL 122.288375 96.735667 \nL 122.36975 101.8102 \nL 122.5325 96.053528 \nL 122.613875 103.867066 \nL 122.69525 103.439753 \nL 122.776625 104.605147 \nL 122.858 81.164759 \nL 122.939375 117.15141 \nL 123.1835 74.008218 \nL 123.264875 109.707084 \nL 123.34625 94.2759 \nL 123.427625 96.789571 \nL 123.509 99.5623 \nL 123.590375 90.985987 \nL 123.67175 121.031435 \nL 123.8345 89.044538 \nL 123.915875 89.772029 \nL 123.99725 95.491383 \nL 124.078625 88.541738 \nL 124.16 90.137052 \nL 124.241375 108.845077 \nL 124.32275 84.483072 \nL 124.404125 109.414409 \nL 124.4855 105.200637 \nL 124.566875 83.895626 \nL 124.64825 99.326169 \nL 124.811 74.828822 \nL 124.97375 112.837194 \nL 125.055125 87.587241 \nL 125.1365 95.958935 \nL 125.217875 96.84357 \nL 125.29925 99.00772 \nL 125.380625 92.159558 \nL 125.462 97.814066 \nL 125.543375 91.288032 \nL 125.706125 98.993464 \nL 125.7875 91.47169 \nL 125.868875 109.734649 \nL 126.031625 91.799703 \nL 126.194375 98.32196 \nL 126.357125 112.947187 \nL 126.519875 83.886967 \nL 126.60125 84.789295 \nL 126.682625 101.268651 \nL 126.764 96.26584 \nL 126.845375 110.538016 \nL 127.008125 90.161342 \nL 127.0895 103.412403 \nL 127.170875 92.25131 \nL 127.25225 110.827224 \nL 127.496375 87.687575 \nL 127.57775 84.52696 \nL 127.7405 88.765709 \nL 127.821875 100.215231 \nL 127.984625 90.676189 \nL 128.066 98.340659 \nL 128.147375 93.50233 \nL 128.22875 100.103158 \nL 128.310125 94.932236 \nL 128.3915 97.919112 \nL 128.472875 94.057289 \nL 128.55425 96.574395 \nL 128.717 92.820953 \nL 128.798375 79.559127 \nL 129.0425 102.272582 \nL 129.286625 94.079959 \nL 129.368 86.621197 \nL 129.449375 110.523123 \nL 129.53075 88.104285 \nL 129.612125 90.545012 \nL 129.774875 106.198476 \nL 129.937625 97.234621 \nL 130.019 95.095103 \nL 130.100375 105.378275 \nL 130.3445 97.634567 \nL 130.50725 92.639402 \nL 130.588625 78.975482 \nL 130.83275 96.918798 \nL 130.914125 96.34624 \nL 130.9955 81.263285 \nL 131.076875 96.531943 \nL 131.15825 96.124617 \nL 131.239625 94.643042 \nL 131.321 83.200946 \nL 131.402375 106.920164 \nL 131.48375 102.998745 \nL 131.565125 91.712054 \nL 131.727875 115.497483 \nL 131.890625 83.683876 \nL 131.972 102.378779 \nL 132.053375 96.425272 \nL 132.13475 97.93646 \nL 132.216125 107.437865 \nL 132.2975 99.65303 \nL 132.378875 74.72802 \nL 132.541625 111.842399 \nL 132.704375 94.540617 \nL 132.867125 107.022635 \nL 132.9485 100.318114 \nL 133.029875 103.04782 \nL 133.11125 82.186257 \nL 133.192625 97.594658 \nL 133.274 94.587421 \nL 133.355375 88.708153 \nL 133.5995 100.306995 \nL 133.680875 92.923239 \nL 133.76225 115.415921 \nL 133.843625 98.151694 \nL 133.925 101.456229 \nL 134.006375 96.81133 \nL 134.08775 100.04906 \nL 134.169125 99.514235 \nL 134.2505 92.536898 \nL 134.494625 112.207528 \nL 134.657375 98.661998 \nL 134.73875 91.917978 \nL 134.820125 95.313048 \nL 134.982875 86.379167 \nL 135.06425 114.43012 \nL 135.227 85.321055 \nL 135.308375 95.759009 \nL 135.38975 91.519822 \nL 135.471125 99.137121 \nL 135.5525 95.644936 \nL 135.633875 104.872597 \nL 135.71525 95.993081 \nL 135.878 106.324007 \nL 136.122125 95.259106 \nL 136.2035 95.779053 \nL 136.36625 110.328979 \nL 136.447625 98.275843 \nL 136.529 98.405742 \nL 136.610375 103.078922 \nL 136.773125 96.120231 \nL 136.8545 97.582583 \nL 137.098625 104.887481 \nL 137.18 93.558262 \nL 137.261375 96.968094 \nL 137.34275 101.05814 \nL 137.5055 96.809466 \nL 137.586875 85.743874 \nL 137.749625 102.409168 \nL 137.912375 101.246591 \nL 137.99375 97.449959 \nL 138.075125 99.269641 \nL 138.1565 97.202055 \nL 138.31925 106.552843 \nL 138.482 97.837366 \nL 138.563375 99.842746 \nL 138.64475 93.724543 \nL 138.726125 95.747744 \nL 138.8075 94.977436 \nL 138.97025 103.272262 \nL 139.051625 87.294098 \nL 139.214375 101.06108 \nL 139.29575 97.420218 \nL 139.377125 103.995881 \nL 139.4585 95.030536 \nL 139.539875 98.161159 \nL 139.62125 97.101608 \nL 139.702625 99.26419 \nL 139.784 97.436214 \nL 139.94675 108.653816 \nL 140.1095 90.821968 \nL 140.190875 99.503157 \nL 140.27225 98.120296 \nL 140.435 101.106413 \nL 140.516375 91.888209 \nL 140.7605 105.017525 \nL 140.92325 90.944643 \nL 141.167375 101.866586 \nL 141.24875 94.051183 \nL 141.330125 99.483975 \nL 141.4115 92.846326 \nL 141.57425 105.618707 \nL 141.655625 96.807441 \nL 141.737 101.723946 \nL 141.818375 91.49316 \nL 141.981125 103.417102 \nL 142.0625 94.026691 \nL 142.143875 95.983905 \nL 142.22525 98.305131 \nL 142.306625 95.666235 \nL 142.388 101.784663 \nL 142.469375 98.107992 \nL 142.632125 102.613862 \nL 142.794875 98.473744 \nL 142.87625 99.270261 \nL 142.957625 102.907155 \nL 143.039 94.222042 \nL 143.120375 97.47411 \nL 143.20175 110.114095 \nL 143.283125 99.968594 \nL 143.3645 104.361209 \nL 143.52725 99.193196 \nL 143.608625 102.047666 \nL 143.69 98.43071 \nL 143.771375 107.176432 \nL 143.85275 105.771741 \nL 144.0155 92.358281 \nL 144.096875 101.334547 \nL 144.17825 98.973573 \nL 144.341 103.176179 \nL 144.422375 94.65424 \nL 144.50375 102.7616 \nL 144.747875 97.307467 \nL 144.82925 100.78076 \nL 144.910625 117.217015 \nL 145.073375 73.804154 \nL 145.236125 96.72952 \nL 145.561625 109.09395 \nL 145.643 97.640293 \nL 145.724375 99.160867 \nL 145.80575 99.726899 \nL 145.887125 90.147706 \nL 145.9685 99.178181 \nL 146.049875 93.118162 \nL 146.13125 100.794336 \nL 146.212625 94.507872 \nL 146.294 103.292928 \nL 146.6195 87.038957 \nL 146.700875 99.04659 \nL 146.78225 97.438679 \nL 146.863625 88.894138 \nL 147.10775 105.32358 \nL 147.189125 99.482292 \nL 147.2705 104.231966 \nL 147.43325 92.843379 \nL 147.514625 99.58415 \nL 147.596 92.781614 \nL 147.677375 96.855621 \nL 147.75875 94.382021 \nL 147.840125 101.914251 \nL 147.9215 89.393554 \nL 148.165625 99.778783 \nL 148.328375 94.370263 \nL 148.491125 102.418559 \nL 148.5725 98.506534 \nL 148.653875 110.328574 \nL 148.816625 90.504942 \nL 148.898 93.989861 \nL 148.979375 127.936232 \nL 149.142125 98.81367 \nL 149.2235 100.997171 \nL 149.304875 92.840791 \nL 149.38625 98.901236 \nL 149.467625 92.592426 \nL 149.549 106.595193 \nL 149.71175 100.757375 \nL 149.793125 102.028762 \nL 149.8745 99.569366 \nL 149.955875 93.126089 \nL 150.118625 105.168713 \nL 150.2 98.25662 \nL 150.281375 101.383631 \nL 150.36275 99.41341 \nL 150.444125 92.216901 \nL 150.5255 101.813378 \nL 150.606875 99.429732 \nL 150.68825 102.742981 \nL 150.769625 95.074239 \nL 150.851 107.572611 \nL 151.01375 95.982228 \nL 151.1765 105.34666 \nL 151.257875 97.184336 \nL 151.420625 105.181251 \nL 151.502 104.673314 \nL 151.66475 100.028397 \nL 151.746125 99.609736 \nL 151.8275 102.010473 \nL 151.908875 101.713582 \nL 151.99025 101.231499 \nL 152.071625 98.026855 \nL 152.153 103.121499 \nL 152.31575 99.979931 \nL 152.397125 102.12624 \nL 152.559875 100.672856 \nL 152.64125 100.980713 \nL 152.722625 101.905295 \nL 152.804 106.396593 \nL 152.885375 99.361147 \nL 153.048125 103.794764 \nL 153.1295 100.026842 \nL 153.210875 100.521001 \nL 153.29225 100.885852 \nL 153.373625 98.367815 \nL 153.455 116.28308 \nL 153.536375 98.884309 \nL 153.61775 101.943307 \nL 153.699125 101.086819 \nL 153.7805 111.354898 \nL 153.94325 100.990389 \nL 154.106 102.204837 \nL 154.187375 104.541358 \nL 154.350125 97.991307 \nL 154.4315 102.934058 \nL 154.59425 93.705132 \nL 154.675625 115.069322 \nL 154.757 96.445403 \nL 154.91975 105.354924 \nL 155.001125 90.333508 \nL 155.163875 102.335073 \nL 155.24525 99.996389 \nL 155.408 107.240982 \nL 155.489375 98.927079 \nL 155.57075 101.485022 \nL 155.7335 99.171494 \nL 155.814875 88.078855 \nL 155.89625 99.754633 \nL 155.977625 86.044744 \nL 156.059 96.365186 \nL 156.140375 125.003079 \nL 156.22175 98.623338 \nL 156.303125 99.709551 \nL 156.3845 106.546874 \nL 156.465875 100.146626 \nL 156.54725 101.571343 \nL 156.628625 101.002224 \nL 156.71 92.791496 \nL 156.791375 108.367701 \nL 156.87275 99.659603 \nL 156.954125 100.562351 \nL 157.0355 96.448253 \nL 157.19825 105.765354 \nL 157.361 98.941441 \nL 157.52375 109.042843 \nL 157.605125 87.157315 \nL 157.767875 101.08746 \nL 157.84925 103.445478 \nL 158.012 101.89045 \nL 158.093375 101.991133 \nL 158.17475 101.249503 \nL 158.256125 103.05505 \nL 158.3375 101.240398 \nL 158.418875 104.890701 \nL 158.744375 100.68194 \nL 158.82575 100.336499 \nL 158.907125 99.349813 \nL 158.9885 99.513477 \nL 159.069875 102.555475 \nL 159.15125 99.185295 \nL 159.314 102.83229 \nL 159.395375 95.435578 \nL 159.558125 105.463285 \nL 159.6395 102.393692 \nL 159.720875 93.704712 \nL 159.883625 104.927006 \nL 160.046375 102.752197 \nL 160.12775 103.920495 \nL 160.209125 101.576681 \nL 160.2905 93.964589 \nL 160.371875 105.053803 \nL 160.45325 67.682956 \nL 160.616 106.286978 \nL 160.697375 104.009434 \nL 160.77875 93.803324 \nL 160.860125 108.128833 \nL 160.9415 104.469891 \nL 161.10425 100.908006 \nL 161.185625 107.168581 \nL 161.348375 98.718827 \nL 161.42975 103.898343 \nL 161.673875 94.802765 \nL 161.918 103.722276 \nL 162.162125 101.690134 \nL 162.2435 100.136821 \nL 162.324875 102.557877 \nL 162.40625 99.89754 \nL 162.487625 102.465694 \nL 162.569 101.281829 \nL 162.73175 104.547461 \nL 162.813125 104.959259 \nL 162.8945 97.770186 \nL 163.05725 105.425452 \nL 163.138625 75.861123 \nL 163.301375 100.961314 \nL 163.38275 105.265952 \nL 163.5455 100.558291 \nL 163.626875 102.464576 \nL 163.70825 107.485541 \nL 163.789625 85.969285 \nL 163.952375 100.258138 \nL 164.03375 104.821058 \nL 164.115125 101.158758 \nL 164.1965 91.637358 \nL 164.277875 102.67261 \nL 164.35925 101.787552 \nL 164.440625 102.014294 \nL 164.522 85.285981 \nL 164.68475 103.096479 \nL 164.766125 98.394707 \nL 164.928875 106.366698 \nL 165.01025 98.324 \nL 165.091625 102.858113 \nL 165.173 101.136553 \nL 165.254375 107.290143 \nL 165.417125 92.825136 \nL 165.4985 101.735734 \nL 165.579875 101.21363 \nL 165.66125 102.060399 \nL 165.824 98.668366 \nL 165.905375 103.441513 \nL 165.98675 98.934064 \nL 166.1495 104.962939 \nL 166.230875 102.480897 \nL 166.31225 105.762111 \nL 166.393625 97.722032 \nL 166.475 102.540295 \nL 166.556375 100.678403 \nL 166.63775 101.33799 \nL 166.719125 109.976213 \nL 166.881875 98.684669 \nL 166.96325 103.86454 \nL 167.044625 95.110256 \nL 167.126 104.536253 \nL 167.207375 97.46498 \nL 167.28875 99.353708 \nL 167.370125 104.460294 \nL 167.532875 94.398532 \nL 167.61425 100.268696 \nL 167.695625 95.83824 \nL 167.777 103.731892 \nL 167.858375 103.334422 \nL 167.93975 97.074997 \nL 168.021125 102.832529 \nL 168.183875 91.273299 \nL 168.428 108.790069 \nL 168.59075 95.319936 \nL 168.672125 104.306647 \nL 168.7535 99.454573 \nL 168.91625 105.707766 \nL 168.997625 99.065576 \nL 169.079 109.413122 \nL 169.160375 107.563348 \nL 169.323125 102.105082 \nL 169.4045 102.645345 \nL 169.485875 100.16674 \nL 169.648625 102.773681 \nL 169.73 102.112543 \nL 169.811375 99.023805 \nL 169.89275 103.561433 \nL 170.136875 93.344694 \nL 170.299625 104.891645 \nL 170.381 95.119375 \nL 170.625125 103.06554 \nL 170.787875 100.730892 \nL 170.86925 108.218364 \nL 170.950625 99.562169 \nL 171.032 103.909362 \nL 171.276125 96.046614 \nL 171.52025 108.362213 \nL 171.601625 91.995258 \nL 171.683 103.169884 \nL 171.764375 102.434857 \nL 171.84575 103.747755 \nL 171.927125 101.609662 \nL 172.089875 110.437144 \nL 172.17125 98.656937 \nL 172.252625 104.880453 \nL 172.334 100.729681 \nL 172.415375 103.356467 \nL 172.49675 101.286356 \nL 172.578125 102.678038 \nL 172.6595 98.388769 \nL 172.82225 104.151085 \nL 172.985 100.505919 \nL 173.066375 101.206687 \nL 173.14775 106.344148 \nL 173.229125 118.923086 \nL 173.391875 97.72436 \nL 173.554625 110.037666 \nL 173.636 106.583762 \nL 173.717375 95.178144 \nL 173.880125 104.124065 \nL 173.9615 105.857132 \nL 174.12425 88.588974 \nL 174.205625 92.945319 \nL 174.287 104.627643 \nL 174.368375 85.915635 \nL 174.44975 104.859612 \nL 174.531125 101.790122 \nL 174.6125 100.745764 \nL 174.693875 105.029991 \nL 174.856625 91.240221 \nL 174.938 94.626674 \nL 175.10075 102.895935 \nL 175.182125 98.858752 \nL 175.2635 103.203489 \nL 175.42625 97.735355 \nL 175.589 105.64091 \nL 175.670375 103.806636 \nL 175.75175 108.867949 \nL 175.995875 93.853318 \nL 176.24 102.72673 \nL 176.321375 99.604143 \nL 176.484125 104.626772 \nL 176.646875 98.071787 \nL 176.72825 102.785099 \nL 176.809625 98.475497 \nL 176.972375 107.21358 \nL 177.05375 98.597751 \nL 177.135125 102.142943 \nL 177.2165 100.474206 \nL 177.297875 101.750224 \nL 177.37925 106.856421 \nL 177.460625 106.670315 \nL 177.542 99.228478 \nL 177.623375 102.142806 \nL 177.70475 92.976354 \nL 177.948875 103.300466 \nL 178.03025 99.229311 \nL 178.193 107.086991 \nL 178.35575 100.954363 \nL 178.437125 107.180064 \nL 178.5185 98.121575 \nL 178.599875 99.594267 \nL 178.68125 101.317905 \nL 178.762625 99.74725 \nL 178.925375 103.548093 \nL 179.1695 91.204138 \nL 179.250875 107.460471 \nL 179.33225 104.019621 \nL 179.413625 102.203523 \nL 179.576375 87.389816 \nL 179.739125 100.969448 \nL 179.8205 94.916662 \nL 179.901875 95.850446 \nL 179.98325 105.93423 \nL 180.064625 93.098855 \nL 180.146 103.692192 \nL 180.227375 100.913176 \nL 180.30875 103.759812 \nL 180.4715 101.25321 \nL 180.552875 105.687259 \nL 180.715625 82.628646 \nL 180.878375 114.643409 \nL 180.95975 103.362554 \nL 181.041125 101.902349 \nL 181.1225 95.101739 \nL 181.366625 109.680107 \nL 181.692125 88.653962 \nL 181.7735 105.965128 \nL 181.854875 86.150842 \nL 181.93625 107.434032 \nL 182.017625 101.177904 \nL 182.099 106.505879 \nL 182.180375 100.11441 \nL 182.26175 102.55697 \nL 182.343125 108.436972 \nL 182.58725 88.161056 \nL 182.668625 88.560781 \nL 182.831375 97.807165 \nL 182.91275 76.465891 \nL 183.0755 93.908192 \nL 183.156875 94.195522 \nL 183.23825 98.801315 \nL 183.319625 97.869724 \nL 183.401 95.778579 \nL 183.482375 96.631096 \nL 183.56375 109.087122 \nL 183.7265 91.686323 \nL 183.807875 103.603764 \nL 183.88925 100.034158 \nL 183.970625 103.143704 \nL 184.052 103.094159 \nL 184.133375 102.071142 \nL 184.21475 95.906673 \nL 184.296125 103.966458 \nL 184.3775 102.322233 \nL 184.458875 97.943154 \nL 184.54025 107.600505 \nL 184.621625 104.237354 \nL 184.784375 88.141691 \nL 184.86575 92.455034 \nL 184.947125 88.657373 \nL 185.109875 103.008864 \nL 185.19125 97.539857 \nL 185.272625 81.139002 \nL 185.354 104.922035 \nL 185.435375 81.221599 \nL 185.51675 105.786167 \nL 185.598125 95.606629 \nL 185.6795 112.507748 \nL 185.760875 99.628941 \nL 185.84225 101.70233 \nL 185.923625 103.273346 \nL 186.086375 93.611702 \nL 186.249125 100.797662 \nL 186.411875 102.466447 \nL 186.49325 100.980048 \nL 186.737375 133.657098 \nL 186.81875 93.389592 \nL 186.900125 116.510154 \nL 187.062875 88.892596 \nL 187.14425 117.008277 \nL 187.225625 103.185906 \nL 187.307 110.00286 \nL 187.388375 94.332193 \nL 187.46975 98.114489 \nL 187.551125 114.477497 \nL 187.6325 82.962167 \nL 187.713875 83.236596 \nL 187.876625 108.805977 \nL 187.958 96.241217 \nL 188.039375 109.890316 \nL 188.202125 89.511491 \nL 188.2835 104.67482 \nL 188.364875 92.53265 \nL 188.44625 104.839742 \nL 188.609 93.333403 \nL 188.690375 94.640084 \nL 188.9345 115.090567 \nL 189.015875 101.618429 \nL 189.09725 108.257459 \nL 189.178625 90.187651 \nL 189.26 99.615734 \nL 189.341375 92.270643 \nL 189.42275 100.076944 \nL 189.504125 64.638241 \nL 189.5855 90.112575 \nL 189.666875 76.799983 \nL 189.74825 105.788566 \nL 189.829625 105.117126 \nL 189.911 104.961194 \nL 189.992375 99.264018 \nL 190.07375 99.311237 \nL 190.2365 96.277707 \nL 190.317875 101.527478 \nL 190.39925 98.247634 \nL 190.480625 111.200328 \nL 190.562 107.43671 \nL 190.643375 106.489059 \nL 190.72475 97.783973 \nL 190.806125 103.684549 \nL 190.8875 85.958797 \nL 191.05025 110.511188 \nL 191.213 94.341521 \nL 191.294375 95.459969 \nL 191.37575 106.549086 \nL 191.5385 98.285007 \nL 191.619875 98.005242 \nL 191.70125 106.083614 \nL 191.782625 98.508652 \nL 191.864 101.768071 \nL 191.945375 100.606159 \nL 192.02675 96.591772 \nL 192.108125 101.642387 \nL 192.1895 97.367923 \nL 192.35225 104.257188 \nL 192.433625 98.778562 \nL 192.515 105.133042 \nL 192.596375 103.138485 \nL 192.67775 103.298277 \nL 192.759125 94.611519 \nL 192.8405 101.960253 \nL 192.921875 98.172518 \nL 193.00325 103.52191 \nL 193.084625 84.023309 \nL 193.166 105.334778 \nL 193.247375 97.621758 \nL 193.32875 99.714268 \nL 193.572875 95.07961 \nL 193.65425 80.345748 \nL 193.817 104.279441 \nL 193.898375 99.522844 \nL 193.97975 102.280131 \nL 194.061125 109.932882 \nL 194.1425 106.287179 \nL 194.223875 95.401513 \nL 194.30525 108.248397 \nL 194.386625 92.337931 \nL 194.468 97.453996 \nL 194.549375 91.927222 \nL 194.63075 107.254382 \nL 194.712125 103.029035 \nL 194.95625 86.313366 \nL 195.119 102.683448 \nL 195.200375 102.54495 \nL 195.28175 106.239726 \nL 195.4445 89.013269 \nL 195.525875 91.466553 \nL 195.60725 91.3315 \nL 195.688625 91.431797 \nL 195.93275 105.330346 \nL 196.014125 103.375959 \nL 196.0955 82.788349 \nL 196.25825 94.028245 \nL 196.339625 90.449577 \nL 196.421 106.952448 \nL 196.502375 96.585564 \nL 196.58375 99.411684 \nL 196.665125 102.286555 \nL 196.7465 99.896289 \nL 196.827875 112.133592 \nL 196.90925 101.443061 \nL 196.990625 108.597637 \nL 197.072 103.244054 \nL 197.153375 105.329041 \nL 197.23475 66.438833 \nL 197.316125 106.720921 \nL 197.3975 78.518168 \nL 197.478875 79.280224 \nL 197.56025 100.406493 \nL 197.641625 85.796676 \nL 197.804375 100.828655 \nL 197.88575 101.228861 \nL 197.967125 102.208352 \nL 198.129875 99.564101 \nL 198.21125 103.610973 \nL 198.292625 90.87086 \nL 198.374 111.469463 \nL 198.455375 102.749589 \nL 198.53675 106.293798 \nL 198.618125 97.296716 \nL 198.780875 102.443868 \nL 198.943625 91.562311 \nL 199.025 97.701202 \nL 199.106375 94.529606 \nL 199.18775 102.228535 \nL 199.269125 100.824983 \nL 199.3505 84.938234 \nL 199.51325 107.183972 \nL 199.594625 99.257997 \nL 199.757375 106.469221 \nL 199.83875 99.399007 \nL 199.920125 100.685902 \nL 200.0015 97.936791 \nL 200.082875 105.074022 \nL 200.16425 103.088231 \nL 200.245625 101.24075 \nL 200.327 101.980798 \nL 200.48975 108.022417 \nL 200.571125 105.704178 \nL 200.733875 96.941399 \nL 200.81525 103.603591 \nL 200.896625 99.199467 \nL 200.978 107.681566 \nL 201.222125 95.750451 \nL 201.3035 111.495018 \nL 201.46625 98.371666 \nL 201.547625 104.051759 \nL 201.629 97.994569 \nL 201.79175 102.504419 \nL 201.873125 93.488972 \nL 202.198625 114.68766 \nL 202.28 131.310673 \nL 202.361375 98.768205 \nL 202.44275 104.563851 \nL 202.524125 104.215925 \nL 202.6055 99.849983 \nL 202.686875 99.924691 \nL 202.76825 99.869448 \nL 202.849625 73.715502 \nL 202.931 104.475967 \nL 203.012375 99.027675 \nL 203.09375 106.708057 \nL 203.175125 100.463657 \nL 203.2565 110.589396 \nL 203.41925 93.907953 \nL 203.500625 96.733525 \nL 203.74475 113.761294 \nL 203.826125 91.074971 \nL 203.9075 98.015885 \nL 204.07025 92.333767 \nL 204.151625 89.702411 \nL 204.314375 95.045616 \nL 204.477125 100.954403 \nL 204.5585 100.495939 \nL 204.802625 103.661681 \nL 204.884 101.043353 \nL 204.965375 101.687327 \nL 205.04675 101.294341 \nL 205.128125 98.461117 \nL 205.2095 100.985436 \nL 205.290875 95.832 \nL 205.37225 107.888412 \nL 205.535 100.635311 \nL 205.616375 101.002752 \nL 205.69775 102.875954 \nL 205.779125 97.101991 \nL 205.8605 105.122301 \nL 206.104625 92.679242 \nL 206.267375 102.582183 \nL 206.34875 102.532999 \nL 206.430125 92.812995 \nL 206.5115 103.52364 \nL 206.592875 101.112558 \nL 206.67425 104.723804 \nL 206.755625 103.129956 \nL 206.837 91.486211 \nL 207.081125 107.172747 \nL 207.1625 99.22799 \nL 207.243875 101.099345 \nL 207.32525 102.926075 \nL 207.406625 99.469755 \nL 207.488 104.137469 \nL 207.569375 91.455266 \nL 207.732125 102.612646 \nL 207.8135 101.410888 \nL 207.894875 97.113231 \nL 207.97625 107.565673 \nL 208.139 99.841886 \nL 208.220375 106.350802 \nL 208.30175 103.571347 \nL 208.383125 79.45829 \nL 208.545875 113.003002 \nL 208.62725 93.819682 \nL 208.708625 99.096533 \nL 208.79 99.047494 \nL 208.871375 95.265942 \nL 208.95275 95.520687 \nL 209.1155 111.081323 \nL 209.196875 92.984678 \nL 209.27825 105.586518 \nL 209.359625 96.69278 \nL 209.441 107.301491 \nL 209.60375 89.358862 \nL 209.685125 98.826676 \nL 209.7665 94.903537 \nL 209.847875 101.430782 \nL 209.92925 96.227483 \nL 210.010625 101.428631 \nL 210.092 99.148689 \nL 210.173375 84.965722 \nL 210.4175 103.255459 \nL 210.58025 95.248402 \nL 210.824375 106.903275 \nL 210.90575 104.149553 \nL 210.987125 91.246583 \nL 211.0685 107.215542 \nL 211.149875 98.404018 \nL 211.23125 104.829908 \nL 211.312625 94.795472 \nL 211.394 97.194161 \nL 211.475375 98.499916 \nL 211.55675 102.396444 \nL 211.638125 101.435531 \nL 211.7195 99.612791 \nL 211.800875 102.909907 \nL 211.88225 100.88142 \nL 212.126375 74.713499 \nL 212.20775 80.836929 \nL 212.289125 99.047229 \nL 212.3705 94.888801 \nL 212.451875 95.569638 \nL 212.53325 102.176118 \nL 212.614625 87.12316 \nL 212.696 98.275205 \nL 212.777375 96.799825 \nL 212.85875 99.763076 \nL 212.940125 92.655933 \nL 213.0215 99.626712 \nL 213.102875 88.217183 \nL 213.428375 101.579165 \nL 213.50975 97.768164 \nL 213.591125 98.849668 \nL 213.83525 105.055152 \nL 213.998 99.588076 \nL 214.079375 114.132999 \nL 214.16075 96.084205 \nL 214.242125 128.263981 \nL 214.3235 92.08664 \nL 214.404875 95.082509 \nL 214.48625 95.840597 \nL 214.567625 98.612396 \nL 214.649 86.873635 \nL 214.81175 98.220237 \nL 214.893125 98.006014 \nL 214.9745 77.578113 \nL 215.055875 108.182743 \nL 215.13725 75.542699 \nL 215.3 99.363494 \nL 215.46275 105.782341 \nL 215.544125 104.802171 \nL 215.706875 96.497869 \nL 215.78825 101.733093 \nL 215.869625 101.120429 \nL 215.951 98.590172 \nL 216.032375 105.711363 \nL 216.11375 85.290524 \nL 216.2765 105.831287 \nL 216.357875 108.841316 \nL 216.43925 100.387899 \nL 216.520625 114.548926 \nL 216.602 97.613536 \nL 216.683375 101.744449 \nL 216.76475 93.235579 \nL 216.9275 108.697619 \nL 217.008875 88.700399 \nL 217.171625 112.669328 \nL 217.253 97.453785 \nL 217.334375 97.65427 \nL 217.41575 107.881438 \nL 217.497125 99.54137 \nL 217.5785 102.899215 \nL 217.659875 102.656165 \nL 217.74125 101.185307 \nL 217.904 92.303341 \nL 217.985375 102.073433 \nL 218.06675 101.052525 \nL 218.148125 100.201936 \nL 218.2295 107.481653 \nL 218.39225 98.649889 \nL 218.473625 99.34153 \nL 218.555 102.143177 \nL 218.636375 100.127432 \nL 218.71775 111.123892 \nL 218.8805 101.944858 \nL 218.961875 108.936997 \nL 219.206 88.464459 \nL 219.36875 105.336914 \nL 219.5315 101.938384 \nL 219.612875 104.275206 \nL 219.775625 96.509364 \nL 219.857 98.219356 \nL 219.938375 106.540541 \nL 220.01975 101.220799 \nL 220.101125 105.080517 \nL 220.1825 102.266659 \nL 220.263875 103.015546 \nL 220.34525 100.866426 \nL 220.508 103.046026 \nL 220.752125 77.722216 \nL 220.914875 106.674845 \nL 220.99625 106.090541 \nL 221.077625 106.160964 \nL 221.159 101.404501 \nL 221.240375 104.111359 \nL 221.32175 102.289946 \nL 221.403125 96.184294 \nL 221.4845 107.730321 \nL 221.565875 147.521165 \nL 221.728625 90.038704 \nL 221.81 103.160893 \nL 222.054125 89.839541 \nL 222.1355 97.019261 \nL 222.29825 86.657211 \nL 222.461 107.997462 \nL 222.542375 95.89786 \nL 222.62375 107.909952 \nL 222.705125 93.178797 \nL 222.7865 105.380961 \nL 222.867875 102.445692 \nL 222.94925 100.095686 \nL 223.030625 101.395432 \nL 223.112 104.499439 \nL 223.193375 74.514271 \nL 223.356125 104.142569 \nL 223.4375 101.372045 \nL 223.518875 103.210371 \nL 223.681625 86.22689 \nL 223.763 93.162167 \nL 223.844375 110.538525 \nL 223.92575 89.412997 \nL 224.0885 105.284056 \nL 224.25125 92.942778 \nL 224.332625 104.469846 \nL 224.414 104.42651 \nL 224.57675 97.476909 \nL 224.658125 72.535549 \nL 224.7395 102.071123 \nL 224.820875 95.42847 \nL 224.90225 105.329905 \nL 224.983625 94.425729 \nL 225.065 111.6751 \nL 225.22775 94.685975 \nL 225.309125 104.106771 \nL 225.471875 97.356947 \nL 225.55325 104.940251 \nL 225.634625 101.180986 \nL 225.797375 66.094931 \nL 225.87875 132.98285 \nL 225.960125 97.826565 \nL 226.0415 105.42495 \nL 226.122875 101.710277 \nL 226.20425 107.420688 \nL 226.285625 92.601767 \nL 226.367 93.0419 \nL 226.448375 88.745132 \nL 226.52975 98.982883 \nL 226.611125 98.354266 \nL 226.6925 97.273615 \nL 226.773875 97.30235 \nL 226.85525 101.768215 \nL 226.936625 100.39571 \nL 227.018 92.692172 \nL 227.099375 93.004638 \nL 227.18075 96.306258 \nL 227.262125 107.562235 \nL 227.50625 70.914897 \nL 227.587625 99.703304 \nL 227.669 88.611846 \nL 227.750375 125.247152 \nL 227.913125 89.71016 \nL 228.15725 107.666213 \nL 228.238625 105.312285 \nL 228.32 100.187982 \nL 228.401375 104.840881 \nL 228.564125 96.276415 \nL 228.726875 105.018054 \nL 228.80825 97.469651 \nL 228.971 104.505894 \nL 229.052375 103.899735 \nL 229.13375 104.810354 \nL 229.2965 100.021094 \nL 229.45925 103.684235 \nL 229.45925 103.684235 \n\" style=\"fill:none;stroke:#1f77b4;stroke-linecap:square;stroke-width:1.5;\"/>\n   </g>\n   <g id=\"patch_3\">\n    <path d=\"M 34.240625 153.698437 \nL 34.240625 17.798437 \n\" style=\"fill:none;stroke:#000000;stroke-linecap:square;stroke-linejoin:miter;stroke-width:0.8;\"/>\n   </g>\n   <g id=\"patch_4\">\n    <path d=\"M 229.540625 153.698437 \nL 229.540625 17.798437 \n\" style=\"fill:none;stroke:#000000;stroke-linecap:square;stroke-linejoin:miter;stroke-width:0.8;\"/>\n   </g>\n   <g id=\"patch_5\">\n    <path d=\"M 34.240625 153.698437 \nL 229.540625 153.698437 \n\" style=\"fill:none;stroke:#000000;stroke-linecap:square;stroke-linejoin:miter;stroke-width:0.8;\"/>\n   </g>\n   <g id=\"patch_6\">\n    <path d=\"M 34.240625 17.798437 \nL 229.540625 17.798437 \n\" style=\"fill:none;stroke:#000000;stroke-linecap:square;stroke-linejoin:miter;stroke-width:0.8;\"/>\n   </g>\n   <g id=\"legend_1\">\n    <g id=\"patch_7\">\n     <path d=\"M 171.3375 40.476562 \nL 222.540625 40.476562 \nQ 224.540625 40.476562 224.540625 38.476562 \nL 224.540625 24.798437 \nQ 224.540625 22.798437 222.540625 22.798437 \nL 171.3375 22.798437 \nQ 169.3375 22.798437 169.3375 24.798437 \nL 169.3375 38.476562 \nQ 169.3375 40.476562 171.3375 40.476562 \nz\n\" style=\"fill:#ffffff;opacity:0.8;stroke:#cccccc;stroke-linejoin:miter;\"/>\n    </g>\n    <g id=\"line2d_18\">\n     <path d=\"M 173.3375 30.896875 \nL 193.3375 30.896875 \n\" style=\"fill:none;stroke:#1f77b4;stroke-linecap:square;stroke-width:1.5;\"/>\n    </g>\n    <g id=\"line2d_19\"/>\n    <g id=\"text_12\">\n     <!-- test -->\n     <defs>\n      <path d=\"M 44.28125 53.078125 \nL 44.28125 44.578125 \nQ 40.484375 46.53125 36.375 47.5 \nQ 32.28125 48.484375 27.875 48.484375 \nQ 21.1875 48.484375 17.84375 46.4375 \nQ 14.5 44.390625 14.5 40.28125 \nQ 14.5 37.15625 16.890625 35.375 \nQ 19.28125 33.59375 26.515625 31.984375 \nL 29.59375 31.296875 \nQ 39.15625 29.25 43.1875 25.515625 \nQ 47.21875 21.78125 47.21875 15.09375 \nQ 47.21875 7.46875 41.1875 3.015625 \nQ 35.15625 -1.421875 24.609375 -1.421875 \nQ 20.21875 -1.421875 15.453125 -0.5625 \nQ 10.6875 0.296875 5.421875 2 \nL 5.421875 11.28125 \nQ 10.40625 8.6875 15.234375 7.390625 \nQ 20.0625 6.109375 24.8125 6.109375 \nQ 31.15625 6.109375 34.5625 8.28125 \nQ 37.984375 10.453125 37.984375 14.40625 \nQ 37.984375 18.0625 35.515625 20.015625 \nQ 33.0625 21.96875 24.703125 23.78125 \nL 21.578125 24.515625 \nQ 13.234375 26.265625 9.515625 29.90625 \nQ 5.8125 33.546875 5.8125 39.890625 \nQ 5.8125 47.609375 11.28125 51.796875 \nQ 16.75 56 26.8125 56 \nQ 31.78125 56 36.171875 55.265625 \nQ 40.578125 54.546875 44.28125 53.078125 \nz\n\" id=\"DejaVuSans-115\"/>\n     </defs>\n     <g transform=\"translate(201.3375 34.396875)scale(0.1 -0.1)\">\n      <use xlink:href=\"#DejaVuSans-116\"/>\n      <use x=\"39.208984\" xlink:href=\"#DejaVuSans-101\"/>\n      <use x=\"100.732422\" xlink:href=\"#DejaVuSans-115\"/>\n      <use x=\"152.832031\" xlink:href=\"#DejaVuSans-116\"/>\n     </g>\n    </g>\n   </g>\n  </g>\n </g>\n <defs>\n  <clipPath id=\"p21a6768d47\">\n   <rect height=\"135.9\" width=\"195.3\" x=\"34.240625\" y=\"17.798437\"/>\n  </clipPath>\n </defs>\n</svg>\n"
          },
          "metadata": {
            "needs_background": "light"
          }
        }
      ]
    },
    {
      "cell_type": "markdown",
      "source": [
        "##Application"
      ],
      "metadata": {
        "id": "uF9vn69JlXi6"
      }
    },
    {
      "cell_type": "code",
      "source": [
        "from datetime import datetime\n",
        "real_time = datetime.now()\n",
        "real_time = real_time.strftime(\"%y%m%d %H\")+\":01:00\"\n",
        "realtime_data = pyupbit.get_ohlcv(coin, interval=\"minute1\", count=1440, to=real_time)\n",
        "print(realtime_data)\n",
        "real_data = np.array(realtime_data).reshape((-1,360))\n",
        "real_data = (real_data - trf_mean)/trf_std\n",
        "real_data = torch.Tensor(real_data)"
      ],
      "metadata": {
        "id": "lAMEbA44_0fM",
        "colab": {
          "base_uri": "https://localhost:8080/"
        },
        "outputId": "51af63b3-08ad-4f73-fc3a-03c00fe5785b"
      },
      "execution_count": null,
      "outputs": [
        {
          "output_type": "stream",
          "name": "stdout",
          "text": [
            "                           open        high         low       close    volume  \\\n",
            "2022-03-21 22:01:00  50397000.0  50408000.0  50389000.0  50399000.0  2.024646   \n",
            "2022-03-21 22:02:00  50398000.0  50408000.0  50360000.0  50361000.0  3.064461   \n",
            "2022-03-21 22:03:00  50361000.0  50399000.0  50361000.0  50399000.0  2.249259   \n",
            "2022-03-21 22:04:00  50399000.0  50400000.0  50363000.0  50363000.0  3.273078   \n",
            "2022-03-21 22:05:00  50363000.0  50371000.0  50360000.0  50361000.0  1.578224   \n",
            "...                         ...         ...         ...         ...       ...   \n",
            "2022-03-22 21:56:00  52195000.0  52210000.0  52170000.0  52202000.0  9.623758   \n",
            "2022-03-22 21:57:00  52206000.0  52219000.0  52206000.0  52219000.0  4.143007   \n",
            "2022-03-22 21:58:00  52219000.0  52222000.0  52211000.0  52222000.0  3.714048   \n",
            "2022-03-22 21:59:00  52222000.0  52222000.0  52197000.0  52213000.0  4.244169   \n",
            "2022-03-22 22:00:00  52216000.0  52230000.0  52197000.0  52227000.0  7.588745   \n",
            "\n",
            "                            value  \n",
            "2022-03-21 22:01:00  1.020443e+08  \n",
            "2022-03-21 22:02:00  1.543849e+08  \n",
            "2022-03-21 22:03:00  1.133164e+08  \n",
            "2022-03-21 22:04:00  1.649107e+08  \n",
            "2022-03-21 22:05:00  7.948272e+07  \n",
            "...                           ...  \n",
            "2022-03-22 21:56:00  5.023206e+08  \n",
            "2022-03-22 21:57:00  2.163142e+08  \n",
            "2022-03-22 21:58:00  1.939415e+08  \n",
            "2022-03-22 21:59:00  2.216038e+08  \n",
            "2022-03-22 22:00:00  3.963016e+08  \n",
            "\n",
            "[1440 rows x 6 columns]\n"
          ]
        }
      ]
    },
    {
      "cell_type": "code",
      "source": [
        "def application():\n",
        "    model.eval()  # 신경망을 추론 모드로 전환\n",
        "    \n",
        "    # 데이터로더에서 미니배치를 하나씩 꺼내 추론을 수행\n",
        "    with torch.no_grad():  # 추론 과정에는 미분이 필요없음\n",
        "        outputs = model(real_data)  # 데이터를 입력하고 출력을 계산\n",
        "        outputs = outputs*trl_std + trl_mean\n",
        "        print(outputs)"
      ],
      "metadata": {
        "id": "yU-1WHz0kfjV"
      },
      "execution_count": null,
      "outputs": []
    },
    {
      "cell_type": "code",
      "source": [
        "application()"
      ],
      "metadata": {
        "colab": {
          "base_uri": "https://localhost:8080/"
        },
        "id": "6XRADaTIgMJ0",
        "outputId": "475660b6-d60a-4f8e-b2bd-6e034c446612"
      },
      "execution_count": null,
      "outputs": [
        {
          "output_type": "stream",
          "name": "stdout",
          "text": [
            "tensor([[52380444.7471],\n",
            "        [51366824.0071],\n",
            "        [52506891.6196],\n",
            "        [48040514.0345],\n",
            "        [50273674.4409],\n",
            "        [51916409.0260],\n",
            "        [50252499.6862],\n",
            "        [51921898.9706],\n",
            "        [51792651.9849],\n",
            "        [51047631.9869],\n",
            "        [51246411.9625],\n",
            "        [51509236.2884],\n",
            "        [51861326.2124],\n",
            "        [47732987.7387],\n",
            "        [51014147.4362],\n",
            "        [60556629.0447],\n",
            "        [50431460.2637],\n",
            "        [51014570.9443],\n",
            "        [54700593.3350],\n",
            "        [52286723.5039],\n",
            "        [52847612.7318],\n",
            "        [55838855.3280],\n",
            "        [53312050.4267],\n",
            "        [53981379.9266]], dtype=torch.float64)\n"
          ]
        }
      ]
    }
  ]
}